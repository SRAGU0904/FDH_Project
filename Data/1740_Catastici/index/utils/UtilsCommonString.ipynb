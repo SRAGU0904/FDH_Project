{
 "cells": [
  {
   "cell_type": "code",
   "execution_count": null,
   "metadata": {},
   "outputs": [],
   "source": [
    "import pandas as pd\n",
    "\n",
    "# Add the parent directory of the 'utils' directory to the Python path\n",
    "import sys\n",
    "import os\n",
    "sys.path.append(os.path.abspath(os.path.join(os.getcwd(), '..')))\n",
    "\n",
    "\n",
    "import utils as u"
   ]
  },
  {
   "cell_type": "markdown",
   "metadata": {},
   "source": [
    "### People"
   ]
  },
  {
   "cell_type": "code",
   "execution_count": null,
   "metadata": {},
   "outputs": [],
   "source": [
    "family_names = sorted(pd.read_json('../dictionaries/PPL_dictionary/family_names.json')[0].to_list(), key=len, reverse=True)\n",
    "family_names_comp = sorted(pd.read_json('../dictionaries/PPL_dictionary/family_names_comp.json')[0].to_list(), key=len, reverse=True)\n",
    "first_names = sorted(pd.read_json('../dictionaries/PPL_dictionary/first_names.json')[0].to_list(), key=len, reverse=True)\n",
    "mestieri = sorted(pd.read_json('../dictionaries/PPL_dictionary/mestieri.json')[0].to_list(), key=len, reverse=True)\n",
    "titles_plur = sorted(pd.read_json('../dictionaries/PPL_dictionary/titles_plur.json')[0].to_list(), key=len, reverse=True)\n",
    "titles_sing = sorted(pd.read_json('../dictionaries/PPL_dictionary/titles_sing.json')[0].to_list(), key=len, reverse=True)\n",
    "titles = sorted(pd.read_json('../dictionaries/PPL_dictionary/titles.json')[0].to_list(), key=len, reverse=True)\n",
    "unknown_relatives_plur = sorted(pd.read_json('../dictionaries/PPL_dictionary/unknown_relatives_plur.json')[0].to_list(), key=len, reverse=True)\n",
    "unknown_relatives_sing = sorted(pd.read_json('../dictionaries/PPL_dictionary/unknown_relatives_sing.json')[0].to_list(), key=len, reverse=True)\n",
    "unknown_relatives = sorted(pd.read_json('../dictionaries/PPL_dictionary/unknown_relatives.json')[0].to_list(), key=len, reverse=True)"
   ]
  },
  {
   "cell_type": "markdown",
   "metadata": {},
   "source": [
    "### Entities"
   ]
  },
  {
   "cell_type": "code",
   "execution_count": null,
   "metadata": {},
   "outputs": [],
   "source": [
    "entities = sorted(pd.read_json('../dictionaries/ENT_dictionary/entities.json')[0], key=len, reverse=True)\n",
    "guild_entities = sorted(pd.read_json('../dictionaries/ENT_dictionary/guild_entities.json')[0], key=len, reverse=True)\n",
    "religious_entities = sorted(pd.read_json('../dictionaries/ENT_dictionary/religious_entities.json')[0], key=len, reverse=True)\n",
    "religious_titles_entities = sorted(pd.read_json('../dictionaries/ENT_dictionary/religious_titles_entities.json')[0], key=len, reverse=True)\n",
    "scuole_religious_entities = sorted(pd.read_json('../dictionaries/ENT_dictionary/scuole_religious_entities.json')[0], key=len, reverse=True)\n",
    "scuole_mestieri_entities = sorted(pd.read_json('../dictionaries/ENT_dictionary/scuole_mestieri_entities.json')[0], key=len, reverse=True)\n",
    "scuole_grandi_entities = sorted(pd.read_json('../dictionaries/ENT_dictionary/scuole_grandi_entities.json')[0], key=len, reverse=True)\n",
    "social_care_entities = sorted(pd.read_json('../dictionaries/ENT_dictionary/social_care_entities.json')[0], key=len, reverse=True)\n",
    "venezia_entities = sorted(pd.read_json('../dictionaries/ENT_dictionary/venezia_entities.json')[0], key=len, reverse=True)\n",
    "venezia_titles_entities = sorted(pd.read_json('../dictionaries/ENT_dictionary/venezia_titles_entities.json')[0], key=len, reverse=True)\n",
    "jew_entities = sorted(pd.read_json('../dictionaries/ENT_dictionary/jew_entities.json')[0], key=len, reverse=True)"
   ]
  },
  {
   "cell_type": "code",
   "execution_count": null,
   "metadata": {},
   "outputs": [],
   "source": [
    "unlinked = pd.read_json('../dictionaries/ENT_dictionary/unlinked_entities.json')\n",
    "venezia_entities_unlinked = sorted(unlinked[unlinked['entities_type'] == 'venezia_entities']['entities_unlinked'], key=len, reverse=True)[0]\n",
    "religious_entities_unlinked = sorted(unlinked[unlinked['entities_type'] == 'religious_entities']['entities_unlinked'], key=len, reverse=True)[0]\n",
    "religious_titles_entities_unlinked = sorted(unlinked[unlinked['entities_type'] == 'religious_titles_entities']['entities_unlinked'], key=len, reverse=True)[0]\n",
    "scuole_entities_unlinked = sorted(unlinked[unlinked['entities_type'] == 'scuole_entities']['entities_unlinked'], key=len, reverse=True)[0]\n",
    "social_care_entities_unlinked = sorted(unlinked[unlinked['entities_type'] == 'social_care_entities']['entities_unlinked'], key=len, reverse=True)[0]\n",
    "other = sorted(unlinked[unlinked['entities_type'] == 'other']['entities_unlinked'], key=len, reverse=True)[0]\n",
    "\n",
    "unlinked_entities = (venezia_entities_unlinked + religious_entities_unlinked + \n",
    "                     religious_titles_entities_unlinked + scuole_entities_unlinked + \n",
    "                     social_care_entities_unlinked + other)"
   ]
  },
  {
   "cell_type": "code",
   "execution_count": null,
   "metadata": {},
   "outputs": [],
   "source": [
    "def find_common_strings(*lists):\n",
    "    common_strings = {}  # Dictionary to store common strings and their corresponding arrays\n",
    "\n",
    "    list_to_tag = {\n",
    "        \"TAG1\": \"guild_entities\", \n",
    "        \"TAG2\": \"religious_entities\", \n",
    "        \"TAG3\": \"religious_titles_entities\", \n",
    "        \"TAG4\": \"scuole_religious_entities\", \n",
    "        \"TAG5\": \"scuole_mestieri_entities\", \n",
    "        \"TAG6\": \"scuole_grandi_entities\", \n",
    "        \"TAG7\": \"venezia_entities\", \n",
    "        \"TAG8\": \"venezia_titles_entities\", \n",
    "        \"TAG9\": \"jew_entities\", \n",
    "         \"TAG10\": \"social_care_entities\",\n",
    "        \"TAG11\": \"unlinked_entities\"\n",
    "    }\n",
    "    \n",
    "    # Iterate through each list and track common strings\n",
    "    for i, current_list in enumerate(lists, start=1):\n",
    "        for term in current_list:\n",
    "            if term in common_strings:\n",
    "                common_strings[term].append(list_to_tag[f\"TAG{i}\"])\n",
    "            else:\n",
    "                common_strings[term] = [list_to_tag[f\"TAG{i}\"]]\n",
    "\n",
    "    # Filter for terms that are present in 2 or more arrays\n",
    "    result = {term: arrays for term, arrays in common_strings.items() if len(arrays) >= 2}\n",
    "    return result\n",
    "\n",
    "\n",
    "common_strings_result = find_common_strings(\n",
    "    guild_entities, \n",
    "    religious_entities, \n",
    "    religious_titles_entities, \n",
    "    scuole_religious_entities, \n",
    "    scuole_mestieri_entities, \n",
    "    scuole_grandi_entities, \n",
    "    venezia_entities, \n",
    "    venezia_titles_entities, \n",
    "    jew_entities,\n",
    "    social_care_entities, \n",
    "    unlinked_entities)\n",
    "\n",
    "# Print the result\n",
    "for term, arrays in common_strings_result.items():\n",
    "    print(f'Lists {\", \".join(arrays)} contain: \"{term}\":')"
   ]
  }
 ],
 "metadata": {
  "kernelspec": {
   "display_name": "Python 3",
   "language": "python",
   "name": "python3"
  },
  "language_info": {
   "codemirror_mode": {
    "name": "ipython",
    "version": 3
   },
   "file_extension": ".py",
   "mimetype": "text/x-python",
   "name": "python",
   "nbconvert_exporter": "python",
   "pygments_lexer": "ipython3",
   "version": "3.11.6"
  }
 },
 "nbformat": 4,
 "nbformat_minor": 2
}
