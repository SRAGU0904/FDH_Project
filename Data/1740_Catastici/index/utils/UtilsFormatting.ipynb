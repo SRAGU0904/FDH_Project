{
  "cells": [
    {
      "cell_type": "code",
      "execution_count": 1,
      "id": "4f04f9e0",
      "metadata": {},
      "outputs": [],
      "source": [
        "import pandas as pd\n",
        "\n",
        "# Add the parent directory of the 'utils' directory to the Python path\n",
        "import sys\n",
        "import os\n",
        "sys.path.append(os.path.abspath(os.path.join(os.getcwd(), '..')))\n",
        "import json\n",
        "\n",
        "import utils as u"
      ]
    },
    {
      "cell_type": "markdown",
      "id": "af55dde8",
      "metadata": {},
      "source": [
        "## Import all dictionaries"
      ]
    },
    {
      "cell_type": "markdown",
      "id": "2e576e44",
      "metadata": {},
      "source": [
        "### People"
      ]
    },
    {
      "cell_type": "code",
      "execution_count": 2,
      "id": "093a06d3",
      "metadata": {},
      "outputs": [],
      "source": [
        "family_names = sorted(pd.read_json('../dictionaries/PPL_dictionary/family_names.json')[0].to_list(), key=len, reverse=True)\n",
        "family_names_comp = sorted(pd.read_json('../dictionaries/PPL_dictionary/family_names_comp.json')[0].to_list(), key=len, reverse=True)\n",
        "first_names = sorted(pd.read_json('../dictionaries/PPL_dictionary/first_names.json')[0].to_list(), key=len, reverse=True)\n",
        "mestieri = sorted(pd.read_json('../dictionaries/PPL_dictionary/mestieri.json')[0].to_list(), key=len, reverse=True)\n",
        "titles_plur = sorted(pd.read_json('../dictionaries/PPL_dictionary/titles_plur.json')[0].to_list(), key=len, reverse=True)\n",
        "titles_sing = sorted(pd.read_json('../dictionaries/PPL_dictionary/titles_sing.json')[0].to_list(), key=len, reverse=True)\n",
        "titles = sorted(pd.read_json('../dictionaries/PPL_dictionary/titles.json')[0].to_list(), key=len, reverse=True)\n",
        "unknown_relatives_plur = sorted(pd.read_json('../dictionaries/PPL_dictionary/unknown_relatives_plur.json')[0].to_list(), key=len, reverse=True)\n",
        "unknown_relatives_sing = sorted(pd.read_json('../dictionaries/PPL_dictionary/unknown_relatives_sing.json')[0].to_list(), key=len, reverse=True)\n",
        "unknown_relatives = sorted(pd.read_json('../dictionaries/PPL_dictionary/unknown_relatives.json')[0].to_list(), key=len, reverse=True)"
      ]
    },
    {
      "cell_type": "markdown",
      "id": "46f22d02",
      "metadata": {},
      "source": [
        "### Entities"
      ]
    },
    {
      "cell_type": "code",
      "execution_count": 3,
      "id": "88bd403b",
      "metadata": {},
      "outputs": [],
      "source": [
        "entities = sorted(pd.read_json('../dictionaries/ENT_dictionary/entities.json')[0], key=len, reverse=True)\n",
        "guild_entities = sorted(pd.read_json('../dictionaries/ENT_dictionary/guild_entities.json')[0], key=len, reverse=True)\n",
        "religious_entities = sorted(pd.read_json('../dictionaries/ENT_dictionary/religious_entities.json')[0], key=len, reverse=True)\n",
        "religious_titles_entities = sorted(pd.read_json('../dictionaries/ENT_dictionary/religious_titles_entities.json')[0], key=len, reverse=True)\n",
        "scuole_religious_entities = sorted(pd.read_json('../dictionaries/ENT_dictionary/scuole_religious_entities.json')[0], key=len, reverse=True)\n",
        "scuole_mestieri_entities = sorted(pd.read_json('../dictionaries/ENT_dictionary/scuole_mestieri_entities.json')[0], key=len, reverse=True)\n",
        "scuole_grandi_entities = sorted(pd.read_json('../dictionaries/ENT_dictionary/scuole_grandi_entities.json')[0], key=len, reverse=True)\n",
        "social_care_entities = sorted(pd.read_json('../dictionaries/ENT_dictionary/social_care_entities.json')[0], key=len, reverse=True)\n",
        "venezia_entities = sorted(pd.read_json('../dictionaries/ENT_dictionary/venezia_entities.json')[0], key=len, reverse=True)\n",
        "venezia_titles_entities = sorted(pd.read_json('../dictionaries/ENT_dictionary/venezia_titles_entities.json')[0], key=len, reverse=True)\n",
        "jew_entities = sorted(pd.read_json('../dictionaries/ENT_dictionary/jew_entities.json')[0], key=len, reverse=True)"
      ]
    },
    {
      "cell_type": "code",
      "execution_count": 4,
      "id": "9ae12e2e",
      "metadata": {},
      "outputs": [],
      "source": [
        "unlinked = pd.read_json('../dictionaries/ENT_dictionary/unlinked_entities.json')\n",
        "\n",
        "venezia_entities_unlinked = sorted(unlinked[unlinked['entities_type'] == 'venezia_entities']['entities_unlinked'], key=len, reverse=True)[0]\n",
        "religious_entities_unlinked = sorted(unlinked[unlinked['entities_type'] == 'religious_entities']['entities_unlinked'], key=len, reverse=True)[0]\n",
        "religious_titles_entities_unlinked = sorted(unlinked[unlinked['entities_type'] == 'religious_titles_entities']['entities_unlinked'], key=len, reverse=True)[0]\n",
        "scuole_entities_unlinked = sorted(unlinked[unlinked['entities_type'] == 'scuole_entities']['entities_unlinked'], key=len, reverse=True)[0]\n",
        "social_care_entities_unlinked = sorted(unlinked[unlinked['entities_type'] == 'social_care_entities']['entities_unlinked'], key=len, reverse=True)[0]\n",
        "other_unlinked = sorted(unlinked[unlinked['entities_type'] == 'other']['entities_unlinked'], key=len, reverse=True)[0]\n",
        "\n",
        "unlinked_entities = (venezia_entities_unlinked + religious_entities_unlinked + \n",
        "                     religious_titles_entities_unlinked + scuole_entities_unlinked + \n",
        "                     social_care_entities_unlinked + other_unlinked)"
      ]
    },
    {
      "cell_type": "markdown",
      "id": "347668cb",
      "metadata": {},
      "source": [
        "### Miscellaneous"
      ]
    },
    {
      "cell_type": "code",
      "execution_count": 5,
      "id": "0e49712b",
      "metadata": {},
      "outputs": [],
      "source": [
        "cities = sorted(pd.read_json('../dictionaries/MSC_dictionary/cities.json')[0].to_list(), key=len, reverse=True)\n",
        "places = sorted(pd.read_json('../dictionaries/MSC_dictionary/places.json')[0].to_list(), key=len, reverse=True)\n",
        "ignore_next = sorted(pd.read_json('../dictionaries/MSC_dictionary/ignore_next.json')[0].to_list(), key=len, reverse=True)\n",
        "unknown_owners = sorted(pd.read_json('../dictionaries/MSC_dictionary/unknown_owners.json')[0].to_list(), key=len, reverse=True)"
      ]
    },
    {
      "cell_type": "markdown",
      "id": "47ed73b5",
      "metadata": {},
      "source": [
        "### Mappings"
      ]
    },
    {
      "cell_type": "code",
      "execution_count": 6,
      "id": "7f460044",
      "metadata": {},
      "outputs": [],
      "source": [
        "venezia_to_mentions = None\n",
        "with open('../dictionaries/std_mappings/entities_to_mentions/venezia_to_mentions.json') as f: \n",
        "    venezia_to_mentions = json.loads(f.read() )\n",
        "\n",
        "religious_to_mentions = None\n",
        "with open('../dictionaries/std_mappings/entities_to_mentions/religious_to_mentions.json') as f: \n",
        "    religious_to_mentions = json.loads(f.read() )\n",
        "\n",
        "scuole_grandi_entities_to_mentions = None\n",
        "with open('../dictionaries/std_mappings/entities_to_mentions/scuole_grandi_to_mentions.json') as f: \n",
        "    scuole_grandi_entities_to_mentions = json.loads(f.read() )\n",
        "\n",
        "scuole_religious_to_mentions = None\n",
        "with open('../dictionaries/std_mappings/entities_to_mentions/scuole_religious_to_mentions.json') as f: \n",
        "    scuole_religious_to_mentions = json.loads(f.read() )\n",
        "\n",
        "scuole_mestieri_to_mentions = None\n",
        "with open('../dictionaries/std_mappings/entities_to_mentions/scuole_mestieri_to_mentions.json') as f: \n",
        "    scuole_mestieri_to_mentions = json.loads(f.read() )\n",
        "    \n",
        "social_care_to_mentions = None\n",
        "with open('../dictionaries/std_mappings/entities_to_mentions/social_care_to_mentions.json') as f: \n",
        "    social_care_to_mentions = json.loads(f.read() )\n",
        "    "
      ]
    },
    {
      "cell_type": "markdown",
      "id": "d42e9004",
      "metadata": {},
      "source": [
        "## Util for list formatting"
      ]
    },
    {
      "cell_type": "code",
      "execution_count": null,
      "id": "7a97f2c6",
      "metadata": {},
      "outputs": [],
      "source": [
        "# DICTIONARIES: PPL_dictionary , ENT_dictionary , MSC_dictionary\n",
        "\n",
        "# PPL_dictionary: \"family_names\" , \"first_names\" , \"family_names_comp\", \"mestieri\" , \"titles\" , \"titles_sing\" , \"titles_plur\" , \n",
        "#                 \"unknown_relatives\" , \"unknown_relatives_sing\" , \"unknown_relatives_plur\"\n",
        "\n",
        "# ENT_dictionary:  \"entities\" , \"venezia_entities\" , \"venezia_titles_entities\" , \"social_care_entities\" , \"religious_entities\" ,\n",
        "#                  \"religious_titles_entities\" , \"scuole_religious_entities\" , \"scuole_mestieri_entities\" , \"scuole_grandi_entities\" , \n",
        "#                  \"guild_entities\" , \"jew_entities\"\n",
        "\n",
        "# MSC_dictionary: \"cities\" , \"places\" , \"unknown_owners\" , \"ignore_next\" \n",
        "\n",
        "directory = 'PPL_dictionary'\n",
        "file_list = [\"titles\"]\n",
        "\n",
        "for file in file_list:\n",
        "\n",
        "    data = pd.read_json('../dictionaries/' + directory + '/' + file + '.json')[0].to_list()\n",
        "    print(len(data))\n",
        "\n",
        "    l = []\n",
        "    for n in data:\n",
        "        l.append(u.text_to_minimal(n))\n",
        "\n",
        "    l = list(set(l))\n",
        "    l.sort()\n",
        "    \n",
        "    l_DF = pd.DataFrame(l)\n",
        "    l_DF.to_json('../dictionaries/' + directory + '/' + file + '.json', orient='records')"
      ]
    },
    {
      "cell_type": "markdown",
      "id": "c9afcdf1",
      "metadata": {},
      "source": [
        "For unlinked_entities file"
      ]
    },
    {
      "cell_type": "code",
      "execution_count": null,
      "id": "030d0f6c",
      "metadata": {},
      "outputs": [],
      "source": [
        "unlinked_DF = pd.read_json('../dictionaries/ENT_dictionary/unlinked_entities.json')\n",
        "unlinked_DF = unlinked_DF.sort_values(by='entities_type')\n",
        "unlinked_DF['entities_unlinked'] = unlinked_DF['entities_unlinked'].apply(lambda x: sorted(list(set(x))))\n",
        "\n",
        "others = unlinked_DF[unlinked_DF['entities_type'] == 'other']\n",
        "unlinked_DF = unlinked_DF[unlinked_DF['entities_type'] != 'other']\n",
        "unlinked_DF = pd.concat([unlinked_DF, others], ignore_index=True)\n",
        "\n",
        "unlinked_DF.to_json('../dictionaries/ENT_dictionary/unlinked_entities.json', orient='records')"
      ]
    },
    {
      "cell_type": "markdown",
      "id": "a5e43b42",
      "metadata": {},
      "source": [
        "## Util for entities to mentions mapping formatting"
      ]
    },
    {
      "cell_type": "code",
      "execution_count": null,
      "id": "5215d3d7",
      "metadata": {},
      "outputs": [],
      "source": [
        "# DICTIONARIES: entities_to_mentions\n",
        "\n",
        "# entities_to_mentions: \"mestieri_to_mentions\" , \"religious_to_mentions\" , \"scuole_grandi_to_mentions\", \"scuole_mestieri_to_mentions\" , \n",
        "#                       \"scuole_religious_to_mentions\" , \"social_care_to_mentions\" , \"venezia_to_mentions\" \n",
        "\n",
        "\n",
        "directory = \"entities_to_mentions\"\n",
        "list_of_files = [\"mestieri_to_mentions\"]\n",
        "\n",
        "# Iterate over each file in the list\n",
        "for file in list_of_files:\n",
        "    with open('../dictionaries/std_mappings/' + directory + '/' + file + '.json') as f: \n",
        "        data_ = f.read() \n",
        "    data_ = json.loads(data_)\n",
        "    print(len(data_))\n",
        "\n",
        "    df = pd.DataFrame(data_)\n",
        "\n",
        "    for key in df.columns[1:]:\n",
        "        df[key] = df[key].apply(lambda x: sorted(list(set(x))))\n",
        "        \n",
        "    first_key = df.columns[0]\n",
        "    df = df.sort_values(by=first_key)\n",
        "\n",
        "    df.to_json('../dictionaries/std_mappings/' + directory + '/' + file + '.json', orient='records')"
      ]
    },
    {
      "cell_type": "markdown",
      "id": "bcd190c4",
      "metadata": {},
      "source": [
        "## Util for people to mentions mapping formatting"
      ]
    },
    {
      "cell_type": "markdown",
      "id": "05f1d6a0",
      "metadata": {},
      "source": [
        "Family name groups"
      ]
    },
    {
      "cell_type": "code",
      "execution_count": null,
      "id": "1f26f837",
      "metadata": {},
      "outputs": [],
      "source": [
        "directory = \"people_to_mentions\"\n",
        "file = \"family_name_groups\"\n",
        "\n",
        "with open('../dictionaries/std_mappings/' + directory + '/' + file + '.json') as f: \n",
        "    data_ = f.read() \n",
        "data_ = json.loads(data_)\n",
        "print(len(data_))\n",
        "\n",
        "df = pd.DataFrame(data_)\n",
        "\n",
        "df[\"name_variations\"] = df[\"name_variations\"].apply(lambda x: sorted(list(set(x))))\n",
        "    \n",
        "df = df.sort_values(by='name_variations', key=lambda x: x.map(len), ascending=False)\n",
        "df.to_json('../dictionaries/std_mappings/' + directory + '/' + file + '.json', orient='records')"
      ]
    },
    {
      "cell_type": "markdown",
      "id": "33f2f737",
      "metadata": {},
      "source": [
        "Other people to mentions formatting"
      ]
    },
    {
      "cell_type": "code",
      "execution_count": 7,
      "id": "97538b45",
      "metadata": {},
      "outputs": [
        {
          "name": "stdout",
          "output_type": "stream",
          "text": [
            "696\n"
          ]
        }
      ],
      "source": [
        "# DICTIONARIES: people_to_mentions\n",
        "\n",
        "# people_to_mentions: \"mestieri_to_std\" , \"title_to_std\" , \"title_plur_to_sing\" \n",
        "\n",
        "directory = \"people_to_mentions\"\n",
        "list_of_files = [\"title_to_std\"]\n",
        "\n",
        "for file in list_of_files:\n",
        "    with open('../dictionaries/std_mappings/' + directory + '/' + file + '.json') as f: \n",
        "        data_ = f.read() \n",
        "    data_ = json.loads(data_)\n",
        "    print(len(data_))\n",
        "\n",
        "    df = pd.DataFrame(data_)\n",
        "    df = df.sort_values(by='key')  # Sort by key\n",
        "    df.to_json('../dictionaries/std_mappings/' + directory + '/' + file + '.json', orient='records')"
      ]
    },
    {
      "cell_type": "markdown",
      "id": "8690e1fb",
      "metadata": {},
      "source": [
        "## Util to check list categorisation consistency"
      ]
    },
    {
      "cell_type": "code",
      "execution_count": null,
      "id": "146bdc3a",
      "metadata": {},
      "outputs": [],
      "source": [
        "full_list = entities\n",
        "sublists = (guild_entities\n",
        "+ religious_entities\n",
        "+ religious_titles_entities\n",
        "+ scuole_religious_entities\n",
        "+ scuole_mestieri_entities\n",
        "+ scuole_grandi_entities\n",
        "+ social_care_entities\n",
        "+ venezia_entities\n",
        "+ venezia_titles_entities\n",
        "+ jew_entities\n",
        "+ unlinked_entities)"
      ]
    },
    {
      "cell_type": "code",
      "execution_count": null,
      "id": "ed675654",
      "metadata": {},
      "outputs": [],
      "source": [
        "print(len(sublists))\n",
        "print(len(full_list))\n",
        "len(sublists) == len(full_list)"
      ]
    },
    {
      "cell_type": "code",
      "execution_count": null,
      "id": "534417bc",
      "metadata": {},
      "outputs": [],
      "source": [
        "print(\"Length of concatenated list: \", len(sublists))\n",
        "print(\"Length of general list: \", len(full_list))"
      ]
    },
    {
      "cell_type": "code",
      "execution_count": null,
      "id": "42188c88",
      "metadata": {},
      "outputs": [],
      "source": [
        "for i in sublists:\n",
        "    if i not in full_list:\n",
        "        print(i)"
      ]
    },
    {
      "cell_type": "code",
      "execution_count": null,
      "id": "2b56ef98",
      "metadata": {},
      "outputs": [],
      "source": [
        "for i in full_list:\n",
        "    if i not in sublists:\n",
        "        print(i)"
      ]
    },
    {
      "cell_type": "markdown",
      "id": "730feb44",
      "metadata": {},
      "source": [
        "## Util to check mapping consistency with lists"
      ]
    },
    {
      "cell_type": "code",
      "execution_count": null,
      "id": "5360ac45",
      "metadata": {},
      "outputs": [],
      "source": [
        "directory = '../dictionaries/std_mappings/entities_to_mentions'\n",
        "file = 'venezia_to_mentions' # EDIT\n",
        "\n",
        "general_list = venezia_entities # EDIT\n",
        "\n",
        "with open('../dictionaries/' + directory + '/' + file + '.json') as f: \n",
        "    data_ = f.read() \n",
        "data_ = json.loads(data_)\n",
        "\n",
        "df = pd.DataFrame(data_)\n",
        "\n",
        "mentions_concatenated = []\n",
        "keys = [\"entity_mentions\"] # EDIT\n",
        "for key in keys:\n",
        "    mentions_concatenated.extend([item for sublist in df[key] for item in sublist])"
      ]
    },
    {
      "cell_type": "code",
      "execution_count": null,
      "id": "59e567e7",
      "metadata": {},
      "outputs": [],
      "source": [
        "print(\"Length of concatenated list: \", len(mentions_concatenated))\n",
        "print(\"Length of general list: \", len(general_list))\n",
        "len(mentions_concatenated) == len(general_list)"
      ]
    },
    {
      "cell_type": "code",
      "execution_count": null,
      "id": "65209951",
      "metadata": {},
      "outputs": [],
      "source": [
        "for i in mentions_concatenated:\n",
        "    if i not in general_list:\n",
        "        print(i)"
      ]
    },
    {
      "cell_type": "code",
      "execution_count": null,
      "id": "3ed97e94",
      "metadata": {},
      "outputs": [],
      "source": [
        "for i in general_list:\n",
        "    if i not in mentions_concatenated:\n",
        "        print(i)"
      ]
    },
    {
      "cell_type": "code",
      "execution_count": null,
      "id": "9393a1d9",
      "metadata": {},
      "outputs": [],
      "source": []
    }
  ],
  "metadata": {
    "kernelspec": {
      "display_name": "Python 3",
      "language": "python",
      "name": "python3"
    },
    "language_info": {
      "codemirror_mode": {
        "name": "ipython",
        "version": 3
      },
      "file_extension": ".py",
      "mimetype": "text/x-python",
      "name": "python",
      "nbconvert_exporter": "python",
      "pygments_lexer": "ipython3",
      "version": "3.11.6"
    },
    "vscode": {
      "interpreter": {
        "hash": "aee8b7b246df8f9039afb4144a1f6fd8d2ca17a180786b69acc140d282b71a49"
      }
    }
  },
  "nbformat": 4,
  "nbformat_minor": 5
}
