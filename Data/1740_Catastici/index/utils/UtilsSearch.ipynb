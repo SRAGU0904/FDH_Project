{
 "cells": [
  {
   "cell_type": "code",
   "execution_count": null,
   "metadata": {},
   "outputs": [],
   "source": [
    "import pandas as pd\n",
    "\n",
    "# Add the parent directory of the 'utils' directory to the Python path\n",
    "import sys\n",
    "import os\n",
    "sys.path.append(os.path.abspath(os.path.join(os.getcwd(), '..')))\n",
    "import json\n",
    "\n",
    "import utils as u"
   ]
  },
  {
   "cell_type": "markdown",
   "metadata": {},
   "source": [
    "## Util to search in Dataset"
   ]
  },
  {
   "cell_type": "code",
   "execution_count": null,
   "metadata": {},
   "outputs": [],
   "source": [
    "dataset_DF = pd.read_json('../data_catastici/data_post-processing/pipeline_steps/catastici_1741_step1.json')\n",
    "dataset_DF.head()"
   ]
  },
  {
   "cell_type": "code",
   "execution_count": null,
   "metadata": {},
   "outputs": [],
   "source": [
    "s = u.text_to_minimal(\"reverendo capito di\")\n",
    "matches = dataset_DF[dataset_DF['owner_name'].str.contains(s, case=False, na=False)]\n",
    "# matches = dataset_DF[dataset_DF['owner_name'].str.contains(fr'\\b{\"morosini\"}\\b', case=False, regex=True)\n",
    "# matches = dataset_DF[dataset_DF['owner_name'] == \"San Rocco\"]"
   ]
  },
  {
   "cell_type": "code",
   "execution_count": null,
   "metadata": {},
   "outputs": [],
   "source": [
    "unique_matches = []\n",
    "for index, row in matches.iterrows():\n",
    "    unique_matches.append(row['owner_name'])\n",
    "    \n",
    "unique_matches = list(set(unique_matches))\n",
    "for um in unique_matches:\n",
    "    print(um)"
   ]
  }
 ],
 "metadata": {
  "kernelspec": {
   "display_name": "Python 3",
   "language": "python",
   "name": "python3"
  },
  "language_info": {
   "codemirror_mode": {
    "name": "ipython",
    "version": 3
   },
   "file_extension": ".py",
   "mimetype": "text/x-python",
   "name": "python",
   "nbconvert_exporter": "python",
   "pygments_lexer": "ipython3",
   "version": "3.11.6"
  }
 },
 "nbformat": 4,
 "nbformat_minor": 2
}
