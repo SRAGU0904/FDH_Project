{
  "cells": [
    {
      "cell_type": "code",
      "execution_count": null,
      "id": "4f04f9e0",
      "metadata": {},
      "outputs": [],
      "source": [
        "import pandas as pd\n",
        "import os"
      ]
    },
    {
      "attachments": {},
      "cell_type": "markdown",
      "id": "f64fd20f",
      "metadata": {},
      "source": [
        "-------------------------------------------------------------------------------------------------------------------"
      ]
    },
    {
      "attachments": {},
      "cell_type": "markdown",
      "id": "e0de611a",
      "metadata": {},
      "source": [
        "# Dataset setup and unique ID assignment"
      ]
    },
    {
      "attachments": {},
      "cell_type": "markdown",
      "id": "776f8b13",
      "metadata": {},
      "source": [
        "-------------------------------------------------------------------------------------------------------------------"
      ]
    },
    {
      "attachments": {},
      "cell_type": "markdown",
      "id": "4ed231b8",
      "metadata": {},
      "source": [
        "#### Load dataset"
      ]
    },
    {
      "cell_type": "code",
      "execution_count": null,
      "id": "d7bd6035",
      "metadata": {},
      "outputs": [],
      "source": [
        "dataset_DF = pd.read_json('../data_catastici/data_pre-processing/catastici_20240123.json')\n",
        "dataset_DF"
      ]
    },
    {
      "attachments": {},
      "cell_type": "markdown",
      "id": "12feafcd",
      "metadata": {},
      "source": [
        "#### Insert and assign UIDX column"
      ]
    },
    {
      "cell_type": "code",
      "execution_count": null,
      "id": "9b74e992",
      "metadata": {},
      "outputs": [],
      "source": [
        "dataset_DF.insert(0, \"uidx\", -1)\n",
        "dataset_DF['uidx'] = dataset_DF.reset_index().index"
      ]
    },
    {
      "attachments": {},
      "cell_type": "markdown",
      "id": "798d6335",
      "metadata": {},
      "source": [
        "#### ID uniqueness check"
      ]
    },
    {
      "cell_type": "code",
      "execution_count": null,
      "id": "c7664ef7",
      "metadata": {},
      "outputs": [],
      "source": [
        "print(\"Column UID is unique:\", dataset_DF['uid'].value_counts().values[0] == 1)\n",
        "print(\"Column UIDX is unique:\", dataset_DF['uidx'].value_counts().values[0] == 1)"
      ]
    },
    {
      "cell_type": "markdown",
      "id": "85c7af02",
      "metadata": {},
      "source": [
        "#### Insert columns for new standardised data structure"
      ]
    },
    {
      "cell_type": "code",
      "execution_count": null,
      "id": "12a4bc05",
      "metadata": {},
      "outputs": [],
      "source": [
        "insert_idx = 3\n",
        "\n",
        "dataset_DF.insert(insert_idx, \"owner_mestiere_std\", '')\n",
        "dataset_DF.insert(insert_idx, \"owner_mestiere\", '')\n",
        "dataset_DF.insert(insert_idx, \"owner_title_std\", '')\n",
        "dataset_DF.insert(insert_idx, \"owner_title\", '')\n",
        "dataset_DF.insert(insert_idx, \"owner_family_group\", '')\n",
        "dataset_DF.insert(insert_idx, \"owner_family_name\", '')\n",
        "dataset_DF.insert(insert_idx, \"owner_first_name\", '')\n",
        "dataset_DF.insert(insert_idx, \"owner_entity_group\", '')\n",
        "dataset_DF.insert(insert_idx, \"owner_entity\", '')\n",
        "dataset_DF.insert(insert_idx, \"owner_count_remark\", '')\n",
        "dataset_DF.insert(insert_idx, \"owner_count\", '')\n",
        "dataset_DF.insert(insert_idx, \"owner_code\", 'TODO')\n",
        "dataset_DF.head()"
      ]
    },
    {
      "cell_type": "markdown",
      "id": "f34f7dc1",
      "metadata": {},
      "source": [
        "### ⚠️⚠️⚠️ Write the updated dataset to file"
      ]
    },
    {
      "cell_type": "code",
      "execution_count": null,
      "id": "76a7af73",
      "metadata": {},
      "outputs": [],
      "source": [
        "directory = '../data_catastici/data_post-processing/pipeline_steps'\n",
        "\n",
        "if not os.path.exists(directory):\n",
        "    os.makedirs(directory)"
      ]
    },
    {
      "cell_type": "code",
      "execution_count": null,
      "id": "8d69f647",
      "metadata": {},
      "outputs": [],
      "source": [
        "dataset_DF.to_json('../data_catastici/data_post-processing/pipeline_steps/catastici_1741_step1.json', orient='records', index=['uidx'])"
      ]
    },
    {
      "cell_type": "markdown",
      "id": "4e78065d",
      "metadata": {},
      "source": [
        "-----------------------------------------------------------------------------"
      ]
    },
    {
      "cell_type": "code",
      "execution_count": null,
      "id": "76fb9e42",
      "metadata": {},
      "outputs": [],
      "source": [
        "import time\n",
        "print(\"Current time:\", time.strftime(\"%H:%M:%S\", time.localtime()))"
      ]
    }
  ],
  "metadata": {
    "kernelspec": {
      "display_name": "Python 3",
      "language": "python",
      "name": "python3"
    },
    "language_info": {
      "codemirror_mode": {
        "name": "ipython",
        "version": 3
      },
      "file_extension": ".py",
      "mimetype": "text/x-python",
      "name": "python",
      "nbconvert_exporter": "python",
      "pygments_lexer": "ipython3",
      "version": "3.11.6"
    },
    "vscode": {
      "interpreter": {
        "hash": "aee8b7b246df8f9039afb4144a1f6fd8d2ca17a180786b69acc140d282b71a49"
      }
    }
  },
  "nbformat": 4,
  "nbformat_minor": 5
}
