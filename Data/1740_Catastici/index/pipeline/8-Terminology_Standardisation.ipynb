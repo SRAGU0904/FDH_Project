{
  "cells": [
    {
      "cell_type": "code",
      "execution_count": null,
      "id": "4f04f9e0",
      "metadata": {},
      "outputs": [],
      "source": [
        "import pandas as pd\n",
        "\n",
        "# Add the parent directory of the 'utils' directory to the Python path\n",
        "import sys\n",
        "import os\n",
        "\n",
        "sys.path.append(os.path.abspath(os.path.join(os.getcwd(), '..')))\n",
        "\n",
        "import utils.utils as u\n",
        "import utils.utils_people as up"
      ]
    },
    {
      "attachments": {},
      "cell_type": "markdown",
      "id": "f64fd20f",
      "metadata": {},
      "source": [
        "-------------------------------------------------------------------------------------------------------------------"
      ]
    },
    {
      "attachments": {},
      "cell_type": "markdown",
      "id": "e0de611a",
      "metadata": {},
      "source": [
        "# Assignation of standardised mapping for family names, entities, titles, mestieri"
      ]
    },
    {
      "attachments": {},
      "cell_type": "markdown",
      "id": "776f8b13",
      "metadata": {},
      "source": [
        "-------------------------------------------------------------------------------------------------------------------"
      ]
    },
    {
      "attachments": {},
      "cell_type": "markdown",
      "id": "4ed231b8",
      "metadata": {},
      "source": [
        "#### Load dataset"
      ]
    },
    {
      "cell_type": "code",
      "execution_count": null,
      "id": "d7bd6035",
      "metadata": {},
      "outputs": [],
      "source": [
        "dataset_DF = pd.read_json('../data_catastici/data_post-processing/pipeline_steps/catastici_1741_step7.json')\n",
        "dataset_DF.head()"
      ]
    },
    {
      "cell_type": "markdown",
      "id": "c3a80976",
      "metadata": {},
      "source": [
        "#### Load necessary dictionaries"
      ]
    },
    {
      "cell_type": "code",
      "execution_count": null,
      "metadata": {},
      "outputs": [],
      "source": [
        "family_names = sorted(pd.read_json('../dictionaries/PPL_dictionary/family_names.json')[0].to_list(), key=len, reverse=True)\n",
        "first_names = sorted(pd.read_json('../dictionaries/PPL_dictionary/first_names.json')[0].to_list(), key=len, reverse=True)\n",
        "titles = sorted(pd.read_json('../dictionaries/PPL_dictionary/titles.json')[0].to_list(), key=len, reverse=True)\n",
        "titles_plur = sorted(pd.read_json('../dictionaries/PPL_dictionary/titles_plur.json')[0].to_list(), key=len, reverse=True)\n",
        "titles_sing = sorted(pd.read_json('../dictionaries/PPL_dictionary/titles_sing.json')[0].to_list(), key=len, reverse=True)\n",
        "unknown_relatives_plur = sorted(pd.read_json('../dictionaries/PPL_dictionary/unknown_relatives_plur.json')[0].to_list(), key=len, reverse=True)\n",
        "unknown_relatives_sing = sorted(pd.read_json('../dictionaries/PPL_dictionary/unknown_relatives_sing.json')[0].to_list(), key=len, reverse=True)\n",
        "\n",
        "mestieri = sorted(pd.read_json('../dictionaries/PPL_dictionary/mestieri.json')[0].to_list(), key=len, reverse=True)"
      ]
    },
    {
      "cell_type": "code",
      "execution_count": null,
      "metadata": {},
      "outputs": [],
      "source": [
        "import json\n",
        "\n",
        "# FAMILY GROUPS\n",
        "with open('../dictionaries/std_mappings/people_to_mentions/family_name_groups.json') as f: \n",
        "    data = f.read() \n",
        "family_name_groups = json.loads(data)   \n",
        "\n",
        "# TITLES\n",
        "with open('../dictionaries/std_mappings/people_to_mentions/title_to_std.json') as f: \n",
        "    data = f.read() \n",
        "title_to_std_ = json.loads(data)   \n",
        "\n",
        "with open('../dictionaries/std_mappings/people_to_mentions/title_plur_to_sing.json') as f: \n",
        "    data = f.read() \n",
        "title_plur_to_sing_ = json.loads(data)   \n",
        "\n",
        "# MESTIERI\n",
        "with open('../dictionaries/std_mappings/people_to_mentions/mestieri_to_std.json') as f: \n",
        "    data = f.read()\n",
        "mestieri_to_std_ = json.loads(data)\n"
      ]
    },
    {
      "cell_type": "markdown",
      "id": "02e31871",
      "metadata": {},
      "source": [
        "## Family group standardisation"
      ]
    },
    {
      "cell_type": "code",
      "execution_count": null,
      "id": "c844233b",
      "metadata": {},
      "outputs": [],
      "source": [
        "def assign_family_group(family_name):\n",
        "    if family_name == '-':\n",
        "        return '-'\n",
        "    \n",
        "    for group in family_name_groups:\n",
        "        if family_name in group['name_variations']:\n",
        "            return group['std_name']\n",
        "        \n",
        "    parts = up.populate_owner_name_array(family_name.split(' '), family_names)\n",
        "    standardized_parts = []\n",
        "    for part in parts:\n",
        "        found_part = False\n",
        "        for group in family_name_groups:\n",
        "            if part in group['name_variations']:\n",
        "                standardized_parts.append(group['std_name'])\n",
        "                found_part = True\n",
        "                break\n",
        "        if not found_part:\n",
        "            print(\"FAMILY NAME NOT FOUND:\", part)\n",
        "            standardized_parts.append(part)\n",
        "    \n",
        "    return ' '.join(standardized_parts)"
      ]
    },
    {
      "cell_type": "code",
      "execution_count": null,
      "id": "95b1a73a",
      "metadata": {},
      "outputs": [],
      "source": [
        "family_groups_to_commit = []\n",
        "\n",
        "dataset_family_names = dataset_DF[dataset_DF['owner_family_name'].str.len() > 0]\n",
        "for index, row in dataset_family_names.iterrows():\n",
        "    uidx = row['uidx']\n",
        "    family_groups = []\n",
        "    \n",
        "    for family_name in row['owner_family_name'].split(' | '):\n",
        "        standardized_family_name = assign_family_group(family_name.lower()) \n",
        "        family_groups.append(standardized_family_name.upper())\n",
        "    \n",
        "    family_group_joined = ' | '.join(family_groups)\n",
        "    \n",
        "    title_modification = {\n",
        "        'uidx': uidx,\n",
        "        'family_group': family_group_joined\n",
        "    }\n",
        "    \n",
        "    family_groups_to_commit.append(title_modification)\n",
        "\n",
        "print(\"There are\", len(family_groups_to_commit), \"total modifications.\")\n"
      ]
    },
    {
      "cell_type": "code",
      "execution_count": null,
      "id": "6d93ae00",
      "metadata": {},
      "outputs": [],
      "source": [
        "for m in family_groups_to_commit:\n",
        "    dataset_DF.loc[m['uidx'], 'owner_family_group'] = m['family_group']"
      ]
    },
    {
      "cell_type": "markdown",
      "id": "dd497d3e",
      "metadata": {},
      "source": [
        "## Entity standardisation"
      ]
    },
    {
      "cell_type": "code",
      "execution_count": null,
      "id": "e6781bee",
      "metadata": {},
      "outputs": [],
      "source": [
        "ent_code_file_mapping = {\n",
        "    'ent_GLD': ('mestieri_to_mentions', 'guild_mentions'),\n",
        "    'ent_REL': ('religious_to_mentions', 'entity_mentions'),\n",
        "    'ent_REL_TTL': ('religious_to_mentions', 'title_mentions'),\n",
        "    'ent_SCL_GRD': ('scuole_grandi_to_mentions', 'entity_mentions'),\n",
        "    'ent_SCL_MST': ('scuole_mestieri_to_mentions', 'entity_mentions'),\n",
        "    'ent_SCL_REL': ('scuole_religious_to_mentions', 'entity_mentions'),\n",
        "    'ent_SCR': ('social_care_to_mentions', 'entity_mentions'),\n",
        "    'ent_VNZ': ('venezia_to_mentions', 'entity_mentions'),\n",
        "    'ent_VNZ_TTL': ('venezia_to_mentions', 'title_mentions'),\n",
        "    'ent_OTH': ('', ''),\n",
        "}"
      ]
    },
    {
      "cell_type": "code",
      "execution_count": null,
      "id": "7e3ecd4a",
      "metadata": {},
      "outputs": [],
      "source": [
        "def assign_entity_group(owner_entity, owner_code):\n",
        "    code = owner_code\n",
        "    if code.startswith('ent_OTH') or code.startswith('ent_JEW') or 'UNL' in code:\n",
        "        return owner_entity.upper()\n",
        "\n",
        "    if code.endswith('_m'):\n",
        "        code = code[:-2]\n",
        "        \n",
        "    filename, key = ent_code_file_mapping.get(code, ('', ''))\n",
        "    if filename and key:\n",
        "        with open(f'../dictionaries/std_mappings/entities_to_mentions/{filename}.json') as f: \n",
        "            data = f.read()\n",
        "        mapping_ent_to_mentions = json.loads(data)\n",
        "        \n",
        "        for item in mapping_ent_to_mentions:\n",
        "            if owner_entity in item.get(key, []):\n",
        "                return item['entity']\n",
        "\n",
        "        print(\"ENTITY NOT FOUND:\", owner_entity)\n",
        "    elif code != 'PPL':\n",
        "        print(\"ENTITY CODE NOT FOUND:\", code)\n",
        "        \n",
        "    return owner_entity.upper()"
      ]
    },
    {
      "cell_type": "code",
      "execution_count": null,
      "id": "3eace810",
      "metadata": {},
      "outputs": [],
      "source": [
        "entity_groups_to_commit = []\n",
        "dataset_entity_names = dataset_DF[dataset_DF['owner_code'].str.contains('ent_')]\n",
        "\n",
        "for index, row in dataset_entity_names.iterrows():\n",
        "    uidx = row['uidx']\n",
        "    entity_names = row['owner_entity'].split(' | ')\n",
        "    owner_codes = row['owner_code'].split(' | ')\n",
        "\n",
        "    entity_groups = []\n",
        "    \n",
        "    # Iterate through each split entity name and its corresponding owner code\n",
        "    for entity_name, code in zip(entity_names, owner_codes):\n",
        "        standardized_entity_name = assign_entity_group(entity_name.lower(), code)\n",
        "        entity_groups.append(standardized_entity_name)\n",
        "    \n",
        "    entity_group_joined = ' | '.join(entity_groups)\n",
        "    entity_modification = {\n",
        "        'uidx': uidx,\n",
        "        'entity_group': entity_group_joined\n",
        "    }\n",
        "    entity_groups_to_commit.append(entity_modification)\n",
        "\n",
        "print(\"There are\", len(entity_groups_to_commit), \"total modifications.\")\n"
      ]
    },
    {
      "cell_type": "code",
      "execution_count": null,
      "id": "7d8382b7",
      "metadata": {},
      "outputs": [],
      "source": [
        "for m in entity_groups_to_commit:\n",
        "    dataset_DF.loc[m['uidx'], 'owner_entity_group'] = m['entity_group']"
      ]
    },
    {
      "cell_type": "markdown",
      "metadata": {},
      "source": [
        "## Title standardisation"
      ]
    },
    {
      "cell_type": "code",
      "execution_count": null,
      "id": "e67bd3a1",
      "metadata": {},
      "outputs": [],
      "source": [
        "title_to_std = {}\n",
        "for e in title_to_std_:\n",
        "    title_to_std[e['key']] = e['value']\n",
        "    \n",
        "title_plur_to_sing = {}\n",
        "for e in title_plur_to_sing_:\n",
        "    title_plur_to_sing[e['key']] = e['value']\n",
        "    "
      ]
    },
    {
      "cell_type": "code",
      "execution_count": null,
      "metadata": {},
      "outputs": [],
      "source": [
        "def standardise_titles(title_text):\n",
        "    titles_list = [u.remove_extra_spaces(t) for t in title_text.split('|')]\n",
        "    standardised_titles = []\n",
        "    for title in titles_list:\n",
        "        comp_titles = [u.remove_extra_spaces(t) for t in title.split('&')]\n",
        "        ttls_ = []\n",
        "        for t in comp_titles:\n",
        "            if t in title_to_std:\n",
        "                if title_to_std[t] not in ttls_:\n",
        "                    ttls_.append(title_to_std[t])\n",
        "            else:\n",
        "                if t == '-':\n",
        "                    ttls_.append('-')\n",
        "                else:\n",
        "                    print('Title not found in std: ', t)\n",
        "        \n",
        "        standardised_titles.append(' & '.join(ttls_))\n",
        "        \n",
        "    return ' | '.join(standardised_titles)"
      ]
    },
    {
      "cell_type": "code",
      "execution_count": null,
      "metadata": {},
      "outputs": [],
      "source": [
        "def propagate_titles_plur(title_text, first_name_minimal):\n",
        "    titles_list = [u.remove_extra_spaces(t) for t in title_text.split('|')]\n",
        "    fn_minimal_list = [u.remove_extra_spaces(f) for f in first_name_minimal.split('|')]\n",
        "\n",
        "    if len(titles_list) != len(fn_minimal_list):\n",
        "        return \"???\"\n",
        "        \n",
        "    processed_titles = []\n",
        "    title_to_propagate = None\n",
        "    \n",
        "    for i, title in enumerate(titles_list):\n",
        "        assigned_std_title = []\n",
        "        fn = fn_minimal_list[i].replace('_', '')\n",
        "        title_arr = [u.remove_extra_spaces(t) for t in title.split('&')]\n",
        "        \n",
        "        if title_to_propagate is not None:\n",
        "            if fn in first_names or fn in unknown_relatives_sing:\n",
        "                assigned_std_title.append(title_plur_to_sing[title_to_propagate])\n",
        "            elif fn in unknown_relatives_plur:\n",
        "                assigned_std_title.append(title_to_propagate)\n",
        "            elif fn != '-':\n",
        "                print('First name format not found:', fn)\n",
        "                    \n",
        "        for title in title_arr:\n",
        "            if title in titles_plur:\n",
        "                title_to_propagate = title\n",
        "                if fn in first_names or fn in unknown_relatives_sing:\n",
        "                    assigned_std_title.append(title_plur_to_sing[title_to_propagate])\n",
        "                elif fn in unknown_relatives_plur or fn == '-':\n",
        "                    assigned_std_title.append(title_to_propagate)\n",
        "                \n",
        "            elif title in titles_sing:\n",
        "                assigned_std_title.append(title)\n",
        "            \n",
        "            elif title == '-' and title_to_propagate is None:\n",
        "                assigned_std_title.append('-')\n",
        "                \n",
        "            elif title != '-':\n",
        "                print(\"Title not found: \", title)\n",
        "                \n",
        "        processed_titles.append(' & '.join(assigned_std_title))\n",
        "                \n",
        "        title_res = ' | '.join(processed_titles)\n",
        "        if title_res.endswith(' | '):\n",
        "            title_res = title_res[:-3] \n",
        "            \n",
        "    return title_res\n",
        "    "
      ]
    },
    {
      "cell_type": "code",
      "execution_count": null,
      "metadata": {},
      "outputs": [],
      "source": [
        "title_modifications_to_commit = []\n",
        "\n",
        "dataset_titled_DF = dataset_DF[dataset_DF['owner_title'].str.len() > 0]\n",
        "for index, row in dataset_titled_DF.iterrows():\n",
        "    \n",
        "    uidx = row['uidx']\n",
        "    title_text = row['owner_title']\n",
        "    title_text_minimal = u.text_to_minimal(title_text)\n",
        "    title_text_minimal = standardise_titles(title_text_minimal)\n",
        "    \n",
        "    first_name_minimal = u.text_to_minimal(row['owner_first_name'])\n",
        "    if '|' in title_text_minimal:\n",
        "        title_text_minimal = propagate_titles_plur(title_text_minimal, first_name_minimal)\n",
        "        \n",
        "    title_modification = {\n",
        "        'uidx': uidx, \n",
        "        'title': u.remove_extra_spaces(title_text_minimal).upper()\n",
        "    }\n",
        "\n",
        "    title_modifications_to_commit.append(title_modification)\n",
        "\n",
        "print(\"There are\", len(title_modifications_to_commit), \"total modifications.\")"
      ]
    },
    {
      "cell_type": "code",
      "execution_count": null,
      "id": "8bd7091e",
      "metadata": {},
      "outputs": [],
      "source": [
        "for m in title_modifications_to_commit:\n",
        "    dataset_DF.loc[m['uidx'], 'owner_title_std'] = m['title']"
      ]
    },
    {
      "cell_type": "markdown",
      "id": "ca20649c",
      "metadata": {},
      "source": [
        "## Mestieri standardisation"
      ]
    },
    {
      "cell_type": "code",
      "execution_count": null,
      "id": "1715c87d",
      "metadata": {},
      "outputs": [],
      "source": [
        "mestieri_to_std = {}\n",
        "for e in mestieri_to_std_:\n",
        "    mestieri_to_std[e['key']] = e['value']"
      ]
    },
    {
      "cell_type": "code",
      "execution_count": null,
      "id": "ac396d37",
      "metadata": {},
      "outputs": [],
      "source": [
        "def standardise_mestieri(mestieri_text):\n",
        "    mestieri_list = [u.remove_extra_spaces(t) for t in mestieri_text.split('|')]\n",
        "    standardised_mestieri = []\n",
        "    for mestiere in mestieri_list:\n",
        "        if mestiere == '-':\n",
        "            standardised_mestieri.append('-')\n",
        "        elif mestiere in mestieri_to_std:\n",
        "            standardised_mestieri.append(mestieri_to_std[mestiere])\n",
        "        else:\n",
        "            print('Mestiere not found in std: ', mestiere)\n",
        "        \n",
        "    return ' | '.join(standardised_mestieri)"
      ]
    },
    {
      "cell_type": "code",
      "execution_count": null,
      "id": "a801f37e",
      "metadata": {},
      "outputs": [],
      "source": [
        "mestieri_modifications_to_commit = []\n",
        "\n",
        "dataset_mestieri_DF = dataset_DF[dataset_DF['owner_mestiere'].str.len() > 0]\n",
        "for index, row in dataset_mestieri_DF.iterrows():\n",
        "    \n",
        "    uidx = row['uidx']\n",
        "    mestiere_text = row['owner_mestiere']\n",
        "    mestiere_text_minimal = u.text_to_minimal(mestiere_text)\n",
        "    mestiere_text_minimal = standardise_mestieri(mestiere_text_minimal)\n",
        "        \n",
        "    mestiere_modification = {\n",
        "        'uidx': uidx, \n",
        "        'mestiere': u.remove_extra_spaces(mestiere_text_minimal).upper()\n",
        "    }\n",
        "\n",
        "    mestieri_modifications_to_commit.append(mestiere_modification)\n",
        "\n",
        "print(\"There are\", len(mestieri_modifications_to_commit), \"total modifications.\")"
      ]
    },
    {
      "cell_type": "code",
      "execution_count": null,
      "id": "c25f6a35",
      "metadata": {},
      "outputs": [],
      "source": [
        "for m in mestieri_modifications_to_commit:\n",
        "    dataset_DF.loc[m['uidx'], 'owner_mestiere_std'] = m['mestiere']"
      ]
    },
    {
      "cell_type": "markdown",
      "metadata": {},
      "source": [
        "-------------------------------------------------------------------------------------------------"
      ]
    },
    {
      "cell_type": "code",
      "execution_count": null,
      "metadata": {},
      "outputs": [],
      "source": [
        "dataset_DF.to_json('../data_catastici/data_post-processing/pipeline_steps/catastici_1741_step8.json', orient='records', index=['uidx'])"
      ]
    },
    {
      "cell_type": "markdown",
      "id": "d7dcdb9b",
      "metadata": {},
      "source": [
        "-------------------------------------------------------------------------------------------------"
      ]
    },
    {
      "cell_type": "code",
      "execution_count": null,
      "id": "b585475a",
      "metadata": {},
      "outputs": [],
      "source": [
        "import time\n",
        "print(\"Current time:\", time.strftime(\"%H:%M:%S\", time.localtime()))"
      ]
    }
  ],
  "metadata": {
    "kernelspec": {
      "display_name": "Python 3",
      "language": "python",
      "name": "python3"
    },
    "language_info": {
      "codemirror_mode": {
        "name": "ipython",
        "version": 3
      },
      "file_extension": ".py",
      "mimetype": "text/x-python",
      "name": "python",
      "nbconvert_exporter": "python",
      "pygments_lexer": "ipython3",
      "version": "3.11.6"
    },
    "vscode": {
      "interpreter": {
        "hash": "aee8b7b246df8f9039afb4144a1f6fd8d2ca17a180786b69acc140d282b71a49"
      }
    }
  },
  "nbformat": 4,
  "nbformat_minor": 5
}
