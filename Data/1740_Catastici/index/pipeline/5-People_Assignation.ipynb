{
 "cells": [
  {
   "cell_type": "code",
   "execution_count": null,
   "id": "4f04f9e0",
   "metadata": {},
   "outputs": [],
   "source": [
    "import pandas as pd\n",
    "\n",
    "# Add the parent directory of the 'utils' directory to the Python path\n",
    "import sys\n",
    "import os\n",
    "\n",
    "sys.path.append(os.path.abspath(os.path.join(os.getcwd(), '..')))\n",
    "\n",
    "\n",
    "import utils.utils as u\n",
    "import utils.utils_people as up"
   ]
  },
  {
   "attachments": {},
   "cell_type": "markdown",
   "id": "f64fd20f",
   "metadata": {},
   "source": [
    "-------------------------------------------------------------------------------------------------------------------"
   ]
  },
  {
   "attachments": {},
   "cell_type": "markdown",
   "id": "e0de611a",
   "metadata": {},
   "source": [
    "# Assignation of parcels owned by People"
   ]
  },
  {
   "attachments": {},
   "cell_type": "markdown",
   "id": "776f8b13",
   "metadata": {},
   "source": [
    "-------------------------------------------------------------------------------------------------------------------"
   ]
  },
  {
   "attachments": {},
   "cell_type": "markdown",
   "id": "4ed231b8",
   "metadata": {},
   "source": [
    "#### Load dataset"
   ]
  },
  {
   "cell_type": "code",
   "execution_count": null,
   "id": "78037a3a",
   "metadata": {},
   "outputs": [],
   "source": [
    "dataset_DF = pd.read_json('../data_catastici/data_post-processing/pipeline_steps/catastici_1741_step4.json')"
   ]
  },
  {
   "cell_type": "markdown",
   "id": "b86de043",
   "metadata": {},
   "source": [
    "#### Select TODO entries and format"
   ]
  },
  {
   "cell_type": "code",
   "execution_count": null,
   "id": "7c38f633",
   "metadata": {},
   "outputs": [],
   "source": [
    "dataset_unresolved_DF = dataset_DF[dataset_DF['owner_code'] == 'TODO'].copy()\n",
    "dataset_unresolved_DF.loc[:, 'owner_name'] = dataset_unresolved_DF['owner_name'].map(lambda x: u.text_to_minimal((x)))\n",
    "print(\"There are\", len(dataset_unresolved_DF), \"unresolved parcel entries.\")"
   ]
  },
  {
   "cell_type": "code",
   "execution_count": null,
   "id": "39967952",
   "metadata": {},
   "outputs": [],
   "source": [
    "dataset_unresolved_DF.head()"
   ]
  },
  {
   "cell_type": "markdown",
   "id": "648a8568",
   "metadata": {},
   "source": []
  },
  {
   "cell_type": "markdown",
   "id": "bcca8ea6",
   "metadata": {},
   "source": [
    "#### Ignore entries with multiple owners\n",
    "\n",
    "We ignore these entries since they will be managed by a future stage of the pipeline."
   ]
  },
  {
   "cell_type": "code",
   "execution_count": null,
   "id": "3d828fed",
   "metadata": {},
   "outputs": [],
   "source": [
    "separators = sorted(pd.read_json('../dictionaries/MSC_dictionary/separators.json')[0].to_list(), key=len, reverse=True)\n",
    "dataset_unresolved_DF = dataset_unresolved_DF[dataset_unresolved_DF['owner_name'].apply(lambda x: not u.has_multiple_owners(x, separators, use_minimal=False))]\n",
    "print(\"There are\", len(dataset_unresolved_DF), \"relevant parcel entries.\")"
   ]
  },
  {
   "cell_type": "markdown",
   "id": "0ac02b72",
   "metadata": {},
   "source": [
    "#### Load necessary dictionaries"
   ]
  },
  {
   "cell_type": "code",
   "execution_count": null,
   "id": "eb11fc8e",
   "metadata": {},
   "outputs": [],
   "source": [
    "family_names = sorted(pd.read_json('../dictionaries/PPL_dictionary/family_names.json')[0].to_list(), key=len, reverse=True)\n",
    "family_names_comp = sorted(pd.read_json('../dictionaries/PPL_dictionary/family_names_comp.json')[0].to_list(), key=len, reverse=True)\n",
    "first_names = sorted(pd.read_json('../dictionaries/PPL_dictionary/first_names.json')[0].to_list(), key=len, reverse=True)\n",
    "mestieri = sorted(pd.read_json('../dictionaries/PPL_dictionary/mestieri.json')[0].to_list(), key=len, reverse=True)\n",
    "titles = sorted(pd.read_json('../dictionaries/PPL_dictionary/titles.json')[0].to_list(), key=len, reverse=True)\n",
    "titles_plur = sorted(pd.read_json('../dictionaries/PPL_dictionary/titles_plur.json')[0].to_list(), key=len, reverse=True)\n",
    "unknown_relatives = sorted(pd.read_json('../dictionaries/PPL_dictionary/unknown_relatives.json')[0].to_list(), key=len, reverse=True)\n",
    "unknown_relatives_sing = sorted(pd.read_json('../dictionaries/PPL_dictionary/unknown_relatives_sing.json')[0].to_list(), key=len, reverse=True)\n",
    "unknown_relatives_plur = sorted(pd.read_json('../dictionaries/PPL_dictionary/unknown_relatives_plur.json')[0].to_list(), key=len, reverse=True)\n",
    "ignore_next = sorted(pd.read_json('../dictionaries/MSC_dictionary/ignore_next.json')[0].to_list(), key=len, reverse=True)\n",
    "entities = sorted(pd.read_json('../dictionaries/ENT_dictionary/entities.json')[0].to_list(), key=len, reverse=True)\n",
    "cities = sorted(pd.read_json('../dictionaries/MSC_dictionary/cities.json')[0].to_list(), key=len, reverse=True)\n",
    "collisions = [c for c in family_names if (c in titles or c in mestieri or c in entities)]\n",
    "places = sorted(pd.read_json('../dictionaries/MSC_dictionary/places.json')[0].to_list(), key=len, reverse=True)"
   ]
  },
  {
   "cell_type": "markdown",
   "id": "9703e928",
   "metadata": {},
   "source": [
    "## Start parcel assignation"
   ]
  },
  {
   "cell_type": "code",
   "execution_count": null,
   "id": "06053869",
   "metadata": {},
   "outputs": [],
   "source": [
    "def print_commit(uidx, owner):\n",
    "    print('----------------------------------------------------------')\n",
    "    print(\"UIDX\", uidx)\n",
    "    print(\"DEMANIO TEXT  -\", owner.upper())"
   ]
  },
  {
   "cell_type": "code",
   "execution_count": null,
   "id": "9f1aae14",
   "metadata": {},
   "outputs": [],
   "source": [
    "modifications_to_commit = []"
   ]
  },
  {
   "cell_type": "code",
   "execution_count": null,
   "id": "a5934f54",
   "metadata": {},
   "outputs": [],
   "source": [
    "for index, row in dataset_unresolved_DF.iterrows():\n",
    "    \n",
    "    uidx = row['uidx']\n",
    "    owner_text_minimal = row['owner_name']\n",
    "\n",
    "    name_extraction = up.extract_names(\n",
    "        owner_text_minimal,\n",
    "        family_names,\n",
    "        first_names, \n",
    "        collisions,\n",
    "        ignore_next,\n",
    "        cities,\n",
    "        places\n",
    "    )\n",
    "    \n",
    "    if name_extraction is not None:\n",
    "        fn_is_empty = name_extraction['name_labeled_map'].get('FIRST_NAME') is None or len(name_extraction['name_labeled_map']['FIRST_NAME']) == 0\n",
    "        ln_is_empty = name_extraction['name_labeled_map'].get('LAST_NAME') is None or len(name_extraction['name_labeled_map']['LAST_NAME']) == 0\n",
    "        fn = '' if fn_is_empty else name_extraction['name_labeled_map']['FIRST_NAME']\n",
    "        ln = '' if ln_is_empty else name_extraction['name_labeled_map']['LAST_NAME']\n",
    "        \n",
    "        owner = {\n",
    "            'uidx': uidx, \n",
    "            'owner_code': name_extraction['label'],\n",
    "            'owner_count': 1,\n",
    "            'owner_count_remark': '',\n",
    "            'owner_first_name': fn,\n",
    "            'owner_family_name': ln,\n",
    "        }\n",
    "                \n",
    "        unknown_relative_extraction = up.extract_unknown_relative_owners(owner_text_minimal, unknown_relatives_sing, unknown_relatives_plur)\n",
    "        if not unknown_relative_extraction is None:\n",
    "            owner['owner_count'] = unknown_relative_extraction['owner_count']\n",
    "            owner['owner_count_remark'] = unknown_relative_extraction['owner_count_remark']\n",
    "            \n",
    "            fn_ = f\"_{unknown_relative_extraction['unknown_relative']}\" if fn_is_empty else f\"{fn} | _{unknown_relative_extraction['unknown_relative']}\"\n",
    "            ln_ = ln if fn_is_empty else f\"{ln} | {ln}\"\n",
    "            owner['owner_first_name'] = fn_\n",
    "            owner['owner_family_name'] = ln_\n",
    "        \n",
    "        modifications_to_commit.append(owner)\n",
    "        print(\"UIDX\", uidx, '----------------------------------------------------------')\n",
    "        print(\"OWNER TEXT  -\", owner_text_minimal)\n",
    "        print(\"FIRST NAME  -\", owner['owner_first_name'])\n",
    "        print(\"LAST NAME   -\", owner['owner_family_name'])\n",
    "        print()\n",
    "\n",
    "print()\n",
    "print()\n",
    "print(\"There are\", len(modifications_to_commit), \"total modifications.\")"
   ]
  },
  {
   "cell_type": "markdown",
   "id": "27bda9f7",
   "metadata": {},
   "source": [
    "### Commit modifications in dataset"
   ]
  },
  {
   "cell_type": "code",
   "execution_count": null,
   "id": "a7d05bd9",
   "metadata": {},
   "outputs": [],
   "source": [
    "for m in modifications_to_commit:\n",
    "    m_uidx = m['uidx']\n",
    "    \n",
    "    dataset_DF.loc[m_uidx, 'owner_code'] = m['owner_code']\n",
    "    dataset_DF.loc[m_uidx, 'owner_count'] = m['owner_count']\n",
    "    dataset_DF.loc[m_uidx, 'owner_count_remark'] = m['owner_count_remark']\n",
    "    dataset_DF.loc[m_uidx, 'owner_first_name'] = m['owner_first_name']\n",
    "    dataset_DF.loc[m_uidx, 'owner_family_name'] = m['owner_family_name']"
   ]
  },
  {
   "cell_type": "markdown",
   "id": "c21a08dc",
   "metadata": {},
   "source": [
    "## Title Assignation"
   ]
  },
  {
   "cell_type": "code",
   "execution_count": null,
   "id": "d7b042bf",
   "metadata": {},
   "outputs": [],
   "source": [
    "dataset_people = dataset_DF[(dataset_DF['owner_code'] == 'PPL') | (dataset_DF['owner_code'] == 'PPL_VRF')]"
   ]
  },
  {
   "cell_type": "code",
   "execution_count": null,
   "id": "60b67670",
   "metadata": {},
   "outputs": [],
   "source": [
    "titles_to_commit = []\n",
    "for index, row in dataset_people.iterrows():\n",
    "    uidx = row['uidx']\n",
    "        \n",
    "    owner_text = u.remove_extra_spaces(row['owner_name'])\n",
    "    owner_text_minimal = u.text_to_minimal(owner_text)\n",
    "    owner_count = 1\n",
    "    owner_count_remark = ''\n",
    "    \n",
    "    ttls = []\n",
    "    for t in titles:\n",
    "        if u.string_contains_substring(owner_text_minimal, t, use_minimal=False):\n",
    "            owner_text_minimal = owner_text_minimal.replace(t, '')\n",
    "            ttls.append(t)\n",
    "            if t in titles_plur:\n",
    "                empty_title_entry = '-'\n",
    "                owner_count = 2\n",
    "                owner_count_remark = '2+'\n",
    "            \n",
    "    if len(ttls) > 0:\n",
    "        title = ' & '.join(ttls)\n",
    "        titles_to_commit.append({\n",
    "            'uidx': uidx, \n",
    "            'owner_title': title.upper(),\n",
    "            'owner_count': owner_count,\n",
    "            'owner_count_remark': owner_count_remark\n",
    "        })\n",
    "        \n",
    "\n",
    "        print('----------------------------------------------------------')\n",
    "        print(\"UIDX\", uidx)\n",
    "        print(\"TITLE -\", title.upper())\n",
    "\n",
    "print(\"There are\", len(titles_to_commit), \"total titles added.\")"
   ]
  },
  {
   "cell_type": "markdown",
   "id": "6041ed60",
   "metadata": {},
   "source": [
    "### Commit modifications in dataset"
   ]
  },
  {
   "cell_type": "code",
   "execution_count": null,
   "metadata": {},
   "outputs": [],
   "source": [
    "for m in titles_to_commit:\n",
    "    dataset_DF.loc[m['uidx'], 'owner_title'] = m['owner_title']\n",
    "    if len(m['owner_count_remark']) > 0:\n",
    "        dataset_DF.loc[m['uidx'], 'owner_count'] = m['owner_count']\n",
    "        dataset_DF.loc[m['uidx'], 'owner_count_remark'] = m['owner_count_remark']"
   ]
  },
  {
   "cell_type": "markdown",
   "metadata": {},
   "source": [
    "## Mestieri Assignation"
   ]
  },
  {
   "cell_type": "code",
   "execution_count": null,
   "metadata": {},
   "outputs": [],
   "source": [
    "mestieri_to_commit = []\n",
    "for index, row in dataset_people.iterrows():\n",
    "    uidx = row['uidx']\n",
    "        \n",
    "    owner_text = u.remove_extra_spaces(row['owner_name'])\n",
    "    owner_text_minimal = u.text_to_minimal(owner_text)\n",
    "    \n",
    "    mstr = []\n",
    "    for m in mestieri:\n",
    "        if u.string_contains_substring(owner_text_minimal, m, use_minimal=False):\n",
    "            owner_text_minimal = owner_text_minimal.replace(m, '')\n",
    "            mstr.append(m)\n",
    "            \n",
    "    if len(mstr) > 0:\n",
    "        mestiere = ' & '.join(mstr)\n",
    "        mestieri_to_commit.append({\n",
    "            'uidx': uidx, \n",
    "            'owner_mestiere': mestiere.upper()\n",
    "        })\n",
    "\n",
    "        print('----------------------------------------------------------')\n",
    "        print(\"UIDX\", uidx)\n",
    "        print(\"MESTIERE -\", mestiere.upper())\n",
    "\n",
    "print(\"There are\", len(mestieri_to_commit), \"total mestieri added.\")"
   ]
  },
  {
   "cell_type": "markdown",
   "id": "8e2ab787",
   "metadata": {},
   "source": [
    "### Commit modifications in dataset"
   ]
  },
  {
   "cell_type": "code",
   "execution_count": null,
   "id": "9233c9db",
   "metadata": {},
   "outputs": [],
   "source": [
    "for m in mestieri_to_commit:\n",
    "    dataset_DF.loc[m['uidx'], 'owner_mestiere'] = m['owner_mestiere']"
   ]
  },
  {
   "attachments": {},
   "cell_type": "markdown",
   "id": "df8d9fda",
   "metadata": {},
   "source": [
    "### ⚠️⚠️⚠️ Write the updated dataset to file"
   ]
  },
  {
   "cell_type": "code",
   "execution_count": null,
   "id": "915c8b23",
   "metadata": {},
   "outputs": [],
   "source": [
    "dataset_DF.to_json('../data_catastici/data_post-processing/pipeline_steps/catastici_1741_step5.json', orient='records', index=['uidx'])"
   ]
  },
  {
   "cell_type": "markdown",
   "id": "3ba8a866",
   "metadata": {},
   "source": [
    "----------------------------------------------------------"
   ]
  },
  {
   "cell_type": "code",
   "execution_count": null,
   "id": "c18cc14a",
   "metadata": {},
   "outputs": [],
   "source": [
    "import time\n",
    "print(\"Current time:\", time.strftime(\"%H:%M:%S\", time.localtime()))"
   ]
  }
 ],
 "metadata": {
  "kernelspec": {
   "display_name": "Python 3",
   "language": "python",
   "name": "python3"
  },
  "language_info": {
   "codemirror_mode": {
    "name": "ipython",
    "version": 3
   },
   "file_extension": ".py",
   "mimetype": "text/x-python",
   "name": "python",
   "nbconvert_exporter": "python",
   "pygments_lexer": "ipython3",
   "version": "3.11.6"
  },
  "vscode": {
   "interpreter": {
    "hash": "aee8b7b246df8f9039afb4144a1f6fd8d2ca17a180786b69acc140d282b71a49"
   }
  }
 },
 "nbformat": 4,
 "nbformat_minor": 5
}
