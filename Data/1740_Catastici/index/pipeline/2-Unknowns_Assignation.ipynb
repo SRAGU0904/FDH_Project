{
  "cells": [
    {
      "cell_type": "code",
      "execution_count": null,
      "id": "4f04f9e0",
      "metadata": {},
      "outputs": [],
      "source": [
        "import pandas as pd\n",
        "\n",
        "# Add the parent directory of the 'utils' directory to the Python path\n",
        "import sys\n",
        "import os\n",
        "sys.path.append(os.path.abspath(os.path.join(os.getcwd(), '..')))\n",
        "\n",
        "\n",
        "import utils.utils as u"
      ]
    },
    {
      "attachments": {},
      "cell_type": "markdown",
      "id": "f64fd20f",
      "metadata": {},
      "source": [
        "-------------------------------------------------------------------------------------------------------------------"
      ]
    },
    {
      "attachments": {},
      "cell_type": "markdown",
      "id": "e0de611a",
      "metadata": {},
      "source": [
        "# Assignation of blanks and unknowns"
      ]
    },
    {
      "attachments": {},
      "cell_type": "markdown",
      "id": "776f8b13",
      "metadata": {},
      "source": [
        "-------------------------------------------------------------------------------------------------------------------"
      ]
    },
    {
      "attachments": {},
      "cell_type": "markdown",
      "id": "4ed231b8",
      "metadata": {},
      "source": [
        "#### Load dataset"
      ]
    },
    {
      "cell_type": "code",
      "execution_count": null,
      "id": "d7bd6035",
      "metadata": {},
      "outputs": [],
      "source": [
        "dataset_DF = pd.read_json('../data_catastici/data_post-processing/pipeline_steps/catastici_1741_step1.json')"
      ]
    },
    {
      "cell_type": "markdown",
      "id": "3a2edea9",
      "metadata": {},
      "source": [
        "#### Select TODO entries and format"
      ]
    },
    {
      "cell_type": "code",
      "execution_count": null,
      "id": "e0c91448",
      "metadata": {},
      "outputs": [],
      "source": [
        "dataset_unresolved_DF = dataset_DF[dataset_DF['owner_code'] == 'TODO'].copy()\n",
        "dataset_unresolved_DF.loc[:, 'owner_name'] = dataset_unresolved_DF['owner_name'].map(lambda x: u.text_to_minimal(x))\n",
        "print(\"There are\", len(dataset_unresolved_DF), \"unresolved parcel entries.\")"
      ]
    },
    {
      "cell_type": "code",
      "execution_count": null,
      "id": "43e050a7",
      "metadata": {},
      "outputs": [],
      "source": [
        "dataset_unresolved_DF.head()"
      ]
    },
    {
      "cell_type": "markdown",
      "id": "72034067",
      "metadata": {},
      "source": [
        "#### Load necessary dictionaries"
      ]
    },
    {
      "cell_type": "code",
      "execution_count": null,
      "id": "eb11fc8e",
      "metadata": {},
      "outputs": [],
      "source": [
        "unknowns = sorted(pd.read_json('../dictionaries/MSC_dictionary/unknown_owners.json')[0].to_list(), key=len, reverse=True)"
      ]
    },
    {
      "cell_type": "markdown",
      "id": "c3c1d3af",
      "metadata": {},
      "source": [
        "## Start parcel assignation"
      ]
    },
    {
      "cell_type": "code",
      "execution_count": null,
      "id": "9f1aae14",
      "metadata": {},
      "outputs": [],
      "source": [
        "modifications_to_commit = []"
      ]
    },
    {
      "cell_type": "code",
      "execution_count": null,
      "id": "a5934f54",
      "metadata": {},
      "outputs": [],
      "source": [
        "for index, row in dataset_unresolved_DF.iterrows():\n",
        "    uidx = row['uidx']\n",
        "    owner_text_minimal = row['owner_name']\n",
        "\n",
        "    if len(owner_text_minimal) == 0 or owner_text_minimal == 'nan':\n",
        "        modifications_to_commit.append({ 'uidx': uidx, 'owner_text_updated': 'blank' })\n",
        "    \n",
        "    else:\n",
        "        for unk in unknowns:\n",
        "            if unk == owner_text_minimal:\n",
        "                modifications_to_commit.append({ 'uidx': uidx, 'owner_text_updated': 'unknown' })\n",
        "                print('----------------------------------------------------------')\n",
        "                print(\"UIDX\", uidx)\n",
        "                print(\"UNKNOWN TEXT  -\", owner_text_minimal)\n",
        "                break\n",
        "\n",
        "print()\n",
        "print()\n",
        "print(\"There are\", len(modifications_to_commit), \"total modifications.\")"
      ]
    },
    {
      "cell_type": "markdown",
      "id": "27bda9f7",
      "metadata": {},
      "source": [
        "### Commit modifications in dataset"
      ]
    },
    {
      "cell_type": "code",
      "execution_count": null,
      "id": "a7d05bd9",
      "metadata": {},
      "outputs": [],
      "source": [
        "for m in modifications_to_commit:\n",
        "    owner_code = 'BLK' if m['owner_text_updated'] == 'blank' else 'UNK'\n",
        "    dataset_DF.loc[m['uidx'], 'owner_code'] = owner_code\n",
        "    dataset_DF.loc[m['uidx'], 'owner_count'] = 0"
      ]
    },
    {
      "attachments": {},
      "cell_type": "markdown",
      "id": "df8d9fda",
      "metadata": {},
      "source": [
        "### ⚠️⚠️⚠️ Write the updated dataset to file"
      ]
    },
    {
      "cell_type": "code",
      "execution_count": null,
      "id": "915c8b23",
      "metadata": {},
      "outputs": [],
      "source": [
        "dataset_DF.to_json('../data_catastici/data_post-processing/pipeline_steps/catastici_1741_step2.json', orient='records', index=['uidx'])"
      ]
    },
    {
      "cell_type": "markdown",
      "id": "3ba8a866",
      "metadata": {},
      "source": [
        "----------------------------------------------------------"
      ]
    },
    {
      "cell_type": "code",
      "execution_count": null,
      "id": "2f4edb28",
      "metadata": {},
      "outputs": [],
      "source": [
        "import time\n",
        "print(\"Current time:\", time.strftime(\"%H:%M:%S\", time.localtime()))"
      ]
    }
  ],
  "metadata": {
    "kernelspec": {
      "display_name": "Python 3",
      "language": "python",
      "name": "python3"
    },
    "language_info": {
      "codemirror_mode": {
        "name": "ipython",
        "version": 3
      },
      "file_extension": ".py",
      "mimetype": "text/x-python",
      "name": "python",
      "nbconvert_exporter": "python",
      "pygments_lexer": "ipython3",
      "version": "3.11.6"
    },
    "vscode": {
      "interpreter": {
        "hash": "aee8b7b246df8f9039afb4144a1f6fd8d2ca17a180786b69acc140d282b71a49"
      }
    }
  },
  "nbformat": 4,
  "nbformat_minor": 5
}
