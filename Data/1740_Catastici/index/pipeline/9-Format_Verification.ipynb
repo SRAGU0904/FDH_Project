{
  "cells": [
    {
      "cell_type": "code",
      "execution_count": null,
      "id": "4f04f9e0",
      "metadata": {},
      "outputs": [],
      "source": [
        "import pandas as pd\n",
        "\n",
        "# Add the parent directory of the 'utils' directory to the Python path\n",
        "import sys\n",
        "import os\n",
        "\n",
        "sys.path.append(os.path.abspath(os.path.join(os.getcwd(), '..')))\n",
        "\n",
        "\n",
        "import utils.utils as u\n",
        "import utils.utils_people as up"
      ]
    },
    {
      "attachments": {},
      "cell_type": "markdown",
      "id": "f64fd20f",
      "metadata": {},
      "source": [
        "-------------------------------------------------------------------------------------------------------------------"
      ]
    },
    {
      "attachments": {},
      "cell_type": "markdown",
      "id": "e0de611a",
      "metadata": {},
      "source": [
        "# Format verifications and manual assignations"
      ]
    },
    {
      "attachments": {},
      "cell_type": "markdown",
      "id": "776f8b13",
      "metadata": {},
      "source": [
        "-------------------------------------------------------------------------------------------------------------------"
      ]
    },
    {
      "attachments": {},
      "cell_type": "markdown",
      "id": "4ed231b8",
      "metadata": {},
      "source": [
        "#### Load dataset"
      ]
    },
    {
      "cell_type": "code",
      "execution_count": null,
      "metadata": {},
      "outputs": [],
      "source": [
        "import numpy as np\n",
        "import pandas as pd"
      ]
    },
    {
      "cell_type": "code",
      "execution_count": null,
      "id": "d7bd6035",
      "metadata": {},
      "outputs": [],
      "source": [
        "dataset_DF = pd.read_json('../data_catastici/data_post-processing/pipeline_steps/catastici_1741_step8.json')\n",
        "people_data = dataset_DF[dataset_DF['owner_code'] == \"PPL\"]\n",
        "people_data.head()"
      ]
    },
    {
      "cell_type": "markdown",
      "metadata": {},
      "source": [
        "### CHECK - Family name missing for people-owned entities"
      ]
    },
    {
      "cell_type": "code",
      "execution_count": null,
      "metadata": {},
      "outputs": [],
      "source": [
        "mask = (people_data['owner_family_name'].str.len() == 0)\n",
        "people_data.loc[mask, 'owner_code'] = \"1C_VRF\""
      ]
    },
    {
      "cell_type": "code",
      "execution_count": null,
      "metadata": {},
      "outputs": [],
      "source": [
        "people_data[people_data['owner_code'] == \"1C_VRF\"]"
      ]
    },
    {
      "cell_type": "markdown",
      "metadata": {},
      "source": [
        "### CHECK - Every entry has same number of FIRST and LAST NAMES"
      ]
    },
    {
      "cell_type": "markdown",
      "metadata": {},
      "source": [
        "This consideres '-' (missing value) as a valid first or last name format."
      ]
    },
    {
      "cell_type": "code",
      "execution_count": null,
      "metadata": {},
      "outputs": [],
      "source": [
        "filtered_data = people_data[(people_data['owner_family_name'].str.len() > 0) & (people_data['owner_first_name'].str.len() > 0)]\n",
        "mask = (filtered_data['owner_family_name'].str.split('|').apply(len) != filtered_data['owner_first_name'].str.split('|').apply(len))\n",
        "people_data.loc[people_data.index.isin(filtered_data[mask].index), 'owner_code'] = \"2C_VRF\""
      ]
    },
    {
      "cell_type": "code",
      "execution_count": null,
      "metadata": {},
      "outputs": [],
      "source": [
        "people_data[people_data['owner_code'] == \"2C_VRF\"]"
      ]
    },
    {
      "cell_type": "markdown",
      "metadata": {},
      "source": [
        "### CHECK - Very long family names"
      ]
    },
    {
      "cell_type": "code",
      "execution_count": null,
      "metadata": {},
      "outputs": [],
      "source": [
        "mask = people_data['owner_family_name'].str.split('|').apply(lambda x: any(len(name.split(' ')) > 4 for name in x))\n",
        "people_data.loc[mask, 'owner_code'] = \"4C_VRF\""
      ]
    },
    {
      "cell_type": "code",
      "execution_count": null,
      "metadata": {},
      "outputs": [],
      "source": [
        "people_data[people_data['owner_code'] == \"4C_VRF\"]"
      ]
    },
    {
      "cell_type": "markdown",
      "id": "a2d6a6cc",
      "metadata": {},
      "source": [
        "## Assign all entries to verify"
      ]
    },
    {
      "cell_type": "code",
      "execution_count": null,
      "id": "0583213b",
      "metadata": {},
      "outputs": [],
      "source": [
        "people_data.loc[people_data['owner_code'].str.contains('C_VRF'), 'owner_code'] = \"C_VRF\""
      ]
    },
    {
      "cell_type": "code",
      "execution_count": null,
      "id": "1145b85d",
      "metadata": {},
      "outputs": [],
      "source": [
        "dataset_DF.update(people_data)"
      ]
    },
    {
      "cell_type": "code",
      "execution_count": null,
      "metadata": {},
      "outputs": [],
      "source": [
        "dataset_DF.to_json('../data_catastici/data_post-processing/pipeline_steps/catastici_1741_STD.json', orient='records', index=['uidx'])"
      ]
    },
    {
      "cell_type": "code",
      "execution_count": null,
      "id": "6cbccad6",
      "metadata": {},
      "outputs": [],
      "source": [
        "with pd.ExcelWriter('../data_catastici/data_post-processing/catastici_1741_STD.xlsx') as writer:\n",
        "    dataset_DF.to_excel(writer, sheet_name='catastici_1741', index_label='uidx') "
      ]
    },
    {
      "cell_type": "markdown",
      "id": "4c159617",
      "metadata": {},
      "source": [
        "-------------------------------------------------------------------------------"
      ]
    },
    {
      "cell_type": "code",
      "execution_count": null,
      "id": "47654568",
      "metadata": {},
      "outputs": [],
      "source": [
        "import time\n",
        "print(\"Current time:\", time.strftime(\"%H:%M:%S\", time.localtime()))"
      ]
    }
  ],
  "metadata": {
    "kernelspec": {
      "display_name": "Python 3",
      "language": "python",
      "name": "python3"
    },
    "language_info": {
      "codemirror_mode": {
        "name": "ipython",
        "version": 3
      },
      "file_extension": ".py",
      "mimetype": "text/x-python",
      "name": "python",
      "nbconvert_exporter": "python",
      "pygments_lexer": "ipython3",
      "version": "3.11.6"
    },
    "vscode": {
      "interpreter": {
        "hash": "aee8b7b246df8f9039afb4144a1f6fd8d2ca17a180786b69acc140d282b71a49"
      }
    }
  },
  "nbformat": 4,
  "nbformat_minor": 5
}
