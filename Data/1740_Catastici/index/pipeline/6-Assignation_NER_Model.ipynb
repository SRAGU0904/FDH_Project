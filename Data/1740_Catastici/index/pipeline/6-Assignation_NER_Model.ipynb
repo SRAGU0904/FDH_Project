{
  "cells": [
    {
      "cell_type": "code",
      "execution_count": null,
      "id": "4f04f9e0",
      "metadata": {},
      "outputs": [],
      "source": [
        "import pandas as pd\n",
        "\n",
        "# Add the parent directory of the 'utils' directory to the Python path\n",
        "import sys\n",
        "import os \n",
        "sys.path.append(os.path.abspath(os.path.join(os.getcwd(), '..')))\n",
        " \n",
        "\n",
        "import utils.utils as u\n",
        "import utils.utils_people as up"
      ]
    },
    {
      "cell_type": "markdown",
      "id": "8e8b6cc7",
      "metadata": {},
      "source": [
        "-------------------------------------------------------------------------------------------------------------------"
      ]
    },
    {
      "cell_type": "markdown",
      "id": "1b4184ab",
      "metadata": {},
      "source": [
        "# Rule-based spaCy model for Named Entity Recognition"
      ]
    },
    {
      "cell_type": "markdown",
      "id": "bf40d8a8",
      "metadata": {},
      "source": [
        "-------------------------------------------------------------------------------------------------------------------"
      ]
    },
    {
      "cell_type": "markdown",
      "id": "c95d534b",
      "metadata": {},
      "source": [
        "#### Load dataset of unresolved entries"
      ]
    },
    {
      "cell_type": "code",
      "execution_count": null,
      "id": "1c04b648",
      "metadata": {},
      "outputs": [],
      "source": [
        "dataset_DF = pd.read_json('../data_catastici/data_post-processing/pipeline_steps/catastici_1741_step5.json')\n",
        "\n",
        "dataset_unresolved_DF = dataset_DF[dataset_DF['owner_code'] == 'TODO'].copy()\n",
        "dataset_unresolved_DF.loc[:, 'owner_name'] = dataset_unresolved_DF['owner_name'].map(lambda x: u.text_to_minimal((x)))\n",
        "print(\"There are\", len(dataset_unresolved_DF), \"unresolved parcel entries.\")"
      ]
    },
    {
      "cell_type": "code",
      "execution_count": null,
      "id": "49e0d064",
      "metadata": {},
      "outputs": [],
      "source": [
        "dataset_unresolved_DF.head()"
      ]
    },
    {
      "cell_type": "code",
      "execution_count": null,
      "id": "4d3ce628",
      "metadata": {},
      "outputs": [],
      "source": [
        "to_drop = [\n",
        "    \"owner_code\",\n",
        "    \"owner_count\",\n",
        "    \"owner_count_remark\",\n",
        "    \"owner_title\",\n",
        "    \"owner_title_std\",\n",
        "    \"owner_first_name\",\n",
        "    \"owner_family_name\",\n",
        "    \"owner_family_group\",\n",
        "    \"owner_mestiere\",\n",
        "    \"owner_entity\",\n",
        "    \"ten_name\",\n",
        "    \"function\",\n",
        "    \"an_rendi\",\n",
        "    \"id_napo\",\n",
        "    \"quantity_income\",\n",
        "    \"quality_income\",\n",
        "    \"author\",\n",
        "    \"place\",\n",
        "    \"parish\",\n",
        "    \"sestiere\",\n",
        "    \"uid\",\n",
        "    \"path_img\"\n",
        "]\n",
        "\n",
        "owner_entries_DF = dataset_unresolved_DF.drop(columns = to_drop)\n",
        "owner_entries_DF.head()"
      ]
    },
    {
      "cell_type": "markdown",
      "id": "cb9d3b98",
      "metadata": {},
      "source": [
        "#### Load necessary dictionaries"
      ]
    },
    {
      "cell_type": "code",
      "execution_count": null,
      "metadata": {},
      "outputs": [],
      "source": [
        "family_names = sorted(pd.read_json('../dictionaries/PPL_dictionary/family_names.json')[0].to_list(), key=len, reverse=True)\n",
        "family_names_comp = sorted(pd.read_json('../dictionaries/PPL_dictionary/family_names_comp.json')[0].to_list(), key=len, reverse=True)\n",
        "first_names = sorted(pd.read_json('../dictionaries/PPL_dictionary/first_names.json')[0].to_list(), key=len, reverse=True)\n",
        "mestieri = sorted(pd.read_json('../dictionaries/PPL_dictionary/mestieri.json')[0].to_list(), key=len, reverse=True)\n",
        "titles = sorted(pd.read_json('../dictionaries/PPL_dictionary/titles.json')[0].to_list(), key=len, reverse=True)\n",
        "unknown_relatives = sorted(pd.read_json('../dictionaries/PPL_dictionary/unknown_relatives.json')[0].to_list(), key=len, reverse=True)\n",
        "unknown_relatives_sing = sorted(pd.read_json('../dictionaries/PPL_dictionary/unknown_relatives_sing.json')[0].to_list(), key=len, reverse=True)\n",
        "unknown_relatives_plur = sorted(pd.read_json('../dictionaries/PPL_dictionary/unknown_relatives_plur.json')[0].to_list(), key=len, reverse=True)\n",
        "entities = sorted(pd.read_json('../dictionaries/ENT_dictionary/entities.json')[0].to_list(), key=len, reverse=True)\n",
        "ignore_next = sorted(pd.read_json('../dictionaries/MSC_dictionary/ignore_next.json')[0].to_list(), key=len, reverse=True) \n",
        "separators = sorted(pd.read_json('../dictionaries/MSC_dictionary/separators.json')[0].to_list(), key=len, reverse=True)"
      ]
    },
    {
      "cell_type": "markdown",
      "id": "1c461c1d",
      "metadata": {},
      "source": [
        "## Format owner names\n",
        "\n",
        "Formatting is useful to remove all text that is surely not related to the owner name. In particular, this text is everything in people-owned parcels that comes after a \"ignore_next\" expression. "
      ]
    },
    {
      "cell_type": "code",
      "execution_count": null,
      "id": "98a39601",
      "metadata": {},
      "outputs": [],
      "source": [
        "def format_owner_name(owner_name, use_minimal=False):\n",
        "    if u.has_multiple_owners(owner_name, separators, use_minimal):\n",
        "        owner_text_formatted = owner_name\n",
        "        \n",
        "        # don't apply ignore next for entities - people only\n",
        "        if not u.string_contains_one_of_substrings(owner_name, entities, use_minimal):\n",
        "            formatted_names = []\n",
        "            split_owner_name = owner_name\n",
        "            \n",
        "            for separator in separators:\n",
        "                if separator in split_owner_name:\n",
        "                    split_owner_name = split_owner_name.replace(separator, \" || \")\n",
        "            \n",
        "            for owner in split_owner_name.split(\" || \"):\n",
        "                formatted_owner = up.remove_ignore_next(owner.strip(), ignore_next, family_names)\n",
        "                formatted_names.append(formatted_owner)\n",
        "        \n",
        "            owner_text_formatted = \",\".join(formatted_names)\n",
        "    else:\n",
        "        owner_text_formatted = up.remove_ignore_next(owner_name.strip(), ignore_next, family_names)\n",
        "        \n",
        "    return owner_text_formatted\n"
      ]
    },
    {
      "cell_type": "code",
      "execution_count": null,
      "metadata": {},
      "outputs": [],
      "source": [
        "owner_entries_DF['owner_name'] = owner_entries_DF['owner_name'].apply(lambda x: format_owner_name(x))"
      ]
    },
    {
      "cell_type": "markdown",
      "id": "44b97a87",
      "metadata": {},
      "source": [
        "## spaCy"
      ]
    },
    {
      "cell_type": "code",
      "execution_count": null,
      "id": "ef2bbaea",
      "metadata": {},
      "outputs": [],
      "source": [
        "import spacy\n",
        "from spacy.lang.it import Italian\n",
        "from spacy.pipeline import EntityRuler\n",
        "import json"
      ]
    },
    {
      "cell_type": "code",
      "execution_count": null,
      "id": "5a6b327d",
      "metadata": {},
      "outputs": [],
      "source": [
        "def load_data(file):\n",
        "    with open(file, 'r', encoding=\"utf-8\") as f:\n",
        "        data = json.load(f)\n",
        "    return (data)\n",
        "\n",
        "def save_data(file, data):\n",
        "    with open(file, 'w', encoding=\"utf-8\") as f:\n",
        "        json.dump(data, f)"
      ]
    },
    {
      "cell_type": "code",
      "execution_count": null,
      "id": "52a7f0e3",
      "metadata": {},
      "outputs": [],
      "source": [
        "def create_name_patterns():\n",
        "    name_patterns = []\n",
        "    for ln in family_names:\n",
        "        for fn in first_names:\n",
        "            if fn != ln:\n",
        "                name_patterns.append(f\"{fn} {ln}\")\n",
        "                name_patterns.append(f\"{ln} {fn}\")\n",
        "                \n",
        "    name_patterns = list(set(name_patterns))\n",
        "    return name_patterns"
      ]
    },
    {
      "cell_type": "code",
      "execution_count": null,
      "id": "6de18d09",
      "metadata": {},
      "outputs": [],
      "source": [
        "def create_reference_data(type):\n",
        "    data = []\n",
        "    if type == \"FIRST_AND_LAST_NAME\":\n",
        "        data = create_name_patterns()\n",
        "    elif type == \"TITLE\":\n",
        "        data = titles\n",
        "    elif type == \"MESTIERE\":\n",
        "        data = mestieri\n",
        "    elif type == \"UNKNOWN_RELATIVES_S\":\n",
        "        data = unknown_relatives_sing\n",
        "    elif type == \"UNKNOWN_RELATIVES_P\":\n",
        "        data = unknown_relatives_plur\n",
        "    elif type == \"ENT\":\n",
        "        data = entities\n",
        "    elif type == \"LAST_NAME\":\n",
        "        data = family_names\n",
        "    elif type == \"FIRST_NAME\":\n",
        "        data = first_names\n",
        "    elif type == \"SEPARATOR\":\n",
        "        data = separators\n",
        "        \n",
        "    patterns = []\n",
        "    for item in data:\n",
        "        pattern = { \"label\" : type, \"pattern\" : item }\n",
        "        patterns.append(pattern)\n",
        "    \n",
        "    return sorted(patterns, key=lambda x: x['pattern'])"
      ]
    },
    {
      "cell_type": "code",
      "execution_count": null,
      "id": "8515deeb",
      "metadata": {},
      "outputs": [],
      "source": [
        "patterns = []\n",
        "patterns.extend(create_reference_data(\"ENT\"))\n",
        "patterns.extend(create_reference_data(\"FIRST_AND_LAST_NAME\"))\n",
        "patterns.extend(create_reference_data(\"LAST_NAME\"))\n",
        "patterns.extend(create_reference_data(\"FIRST_NAME\"))\n",
        "patterns.extend(create_reference_data(\"TITLE\"))\n",
        "patterns.extend(create_reference_data(\"MESTIERE\"))\n",
        "patterns.extend(create_reference_data(\"SEPARATOR\"))\n",
        "patterns.extend(create_reference_data(\"UNKNOWN_RELATIVES_S\"))\n",
        "patterns.extend(create_reference_data(\"UNKNOWN_RELATIVES_P\"))"
      ]
    },
    {
      "cell_type": "markdown",
      "id": "3e853809",
      "metadata": {},
      "source": [
        "### NER Model spaCy"
      ]
    },
    {
      "cell_type": "code",
      "execution_count": null,
      "id": "40f073e5",
      "metadata": {},
      "outputs": [],
      "source": [
        "nlp = Italian()\n",
        "\n",
        "def generate_ruler_model(patterns):\n",
        "    entity_ruler = EntityRuler(nlp, overwrite_ents=True)\n",
        "    entity_ruler = nlp.add_pipe(\"entity_ruler\")\n",
        "    entity_ruler.initialize(lambda: [], nlp=nlp, patterns=patterns)\n",
        "    \n",
        "generate_ruler_model(patterns)\n",
        "\n",
        "# ====================================================================="
      ]
    },
    {
      "cell_type": "code",
      "execution_count": null,
      "id": "e8c29682",
      "metadata": {},
      "outputs": [],
      "source": [
        "def test_model(model, text):\n",
        "    doc = model(text)\n",
        "    results = []\n",
        "    for ent in doc.ents:\n",
        "        results.append((ent.label_, ent.text, ent.start_char, ent.end_char))\n",
        "    return (results)"
      ]
    },
    {
      "cell_type": "code",
      "execution_count": null,
      "id": "15d8d340",
      "metadata": {},
      "outputs": [],
      "source": [
        "all_owners = []\n",
        "for index, row in owner_entries_DF.iterrows():\n",
        "    all_owners.append(row)\n",
        "    \n",
        "found_patterns = []\n",
        "for o in all_owners:\n",
        "    owner = u.text_to_minimal(o['owner_name'])\n",
        "    \n",
        "    results = test_model(nlp, owner)\n",
        "    if len(results) > 0:    \n",
        "        entry = {\n",
        "            'uidx': o['uidx'],\n",
        "            'owner_text': o['owner_name'],\n",
        "            'owner_text_minimal': owner\n",
        "        }\n",
        "        \n",
        "        i = 1\n",
        "        for r in results:\n",
        "            entry[f\"pattern_{i}\"] = r\n",
        "            i+=1\n",
        "            \n",
        "        found_patterns.append(entry)\n",
        "       \n",
        "save_data(\"model_output_step6.json\", found_patterns) "
      ]
    },
    {
      "cell_type": "markdown",
      "id": "ff419898",
      "metadata": {},
      "source": [
        "### Create data structure of unresolved patterns"
      ]
    },
    {
      "cell_type": "code",
      "execution_count": null,
      "id": "aa4c2f07",
      "metadata": {},
      "outputs": [],
      "source": [
        "dataset_unresolved_patterns = pd.read_json('model_output_step6.json')\n",
        "dataset_unresolved_patterns.head()"
      ]
    },
    {
      "cell_type": "code",
      "execution_count": null,
      "id": "d259f154",
      "metadata": {},
      "outputs": [],
      "source": [
        "unresolved_patterns = []"
      ]
    },
    {
      "cell_type": "code",
      "execution_count": null,
      "id": "533ba5e5",
      "metadata": {},
      "outputs": [],
      "source": [
        "for index, row in dataset_unresolved_patterns.iterrows():\n",
        "    \n",
        "    uidx = row['uidx']    \n",
        "    owner_text = u.remove_extra_spaces(row['owner_text'])\n",
        "    patterns = []\n",
        "    \n",
        "    i = 1\n",
        "    pattern = 'pattern_1'\n",
        "    while pattern in row and isinstance(row[pattern], list):\n",
        "        patterns.append({\n",
        "            \"label\": row[pattern][0],\n",
        "            \"pattern\": row[pattern][1],\n",
        "            \"start_idx\": row[pattern][2],\n",
        "            \"end_idx\": row[pattern][3]\n",
        "        })\n",
        "        i += 1\n",
        "        pattern = f\"pattern_{str(i)}\"\n",
        "    \n",
        "    unresolved_patterns.append({\n",
        "        \"uidx\": uidx,\n",
        "        \"owner_text\": owner_text,\n",
        "        \"patterns\": patterns    \n",
        "    })"
      ]
    },
    {
      "cell_type": "code",
      "execution_count": null,
      "id": "457835c2",
      "metadata": {},
      "outputs": [],
      "source": [
        "unresolved_patterns_DF = pd.DataFrame(unresolved_patterns)\n",
        "unresolved_patterns_DF"
      ]
    },
    {
      "cell_type": "markdown",
      "id": "7b71d767",
      "metadata": {},
      "source": [
        "### ⚠️⚠️⚠️ Write the updated dataset to file"
      ]
    },
    {
      "cell_type": "code",
      "execution_count": null,
      "id": "06d7cf50",
      "metadata": {},
      "outputs": [],
      "source": [
        "unresolved_patterns_DF.to_json('../data_catastici/data_post-processing/pipeline_steps/catastici_1741_step6_patterns.json', orient='records', index=['uidx'])"
      ]
    },
    {
      "cell_type": "code",
      "execution_count": null,
      "id": "11dc52dc",
      "metadata": {},
      "outputs": [],
      "source": [
        "import time\n",
        "print(\"Current time:\", time.strftime(\"%H:%M:%S\", time.localtime()))"
      ]
    }
  ],
  "metadata": {
    "kernelspec": {
      "display_name": "Python 3",
      "language": "python",
      "name": "python3"
    },
    "language_info": {
      "codemirror_mode": {
        "name": "ipython",
        "version": 3
      },
      "file_extension": ".py",
      "mimetype": "text/x-python",
      "name": "python",
      "nbconvert_exporter": "python",
      "pygments_lexer": "ipython3",
      "version": "3.11.6"
    },
    "vscode": {
      "interpreter": {
        "hash": "aee8b7b246df8f9039afb4144a1f6fd8d2ca17a180786b69acc140d282b71a49"
      }
    }
  },
  "nbformat": 4,
  "nbformat_minor": 5
}
