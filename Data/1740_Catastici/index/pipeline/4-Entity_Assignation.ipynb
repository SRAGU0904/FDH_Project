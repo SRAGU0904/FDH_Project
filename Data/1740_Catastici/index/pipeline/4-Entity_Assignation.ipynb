{
  "cells": [
    {
      "cell_type": "code",
      "execution_count": null,
      "id": "4f04f9e0",
      "metadata": {},
      "outputs": [],
      "source": [
        "import pandas as pd\n",
        "\n",
        "# Add the parent directory of the 'utils' directory to the Python path\n",
        "import sys\n",
        "import os\n",
        "sys.path.append(os.path.abspath(os.path.join(os.getcwd(), '..')))\n",
        "\n",
        "\n",
        "import utils.utils as u\n",
        "import utils.utils_people as up\n",
        "import utils.utils_entities as ue"
      ]
    },
    {
      "attachments": {},
      "cell_type": "markdown",
      "id": "f64fd20f",
      "metadata": {},
      "source": [
        "-------------------------------------------------------------------------------------------------------------------"
      ]
    },
    {
      "attachments": {},
      "cell_type": "markdown",
      "id": "e0de611a",
      "metadata": {},
      "source": [
        "# Assignation of parcels owned by Venetian entities"
      ]
    },
    {
      "attachments": {},
      "cell_type": "markdown",
      "id": "776f8b13",
      "metadata": {},
      "source": [
        "-------------------------------------------------------------------------------------------------------------------"
      ]
    },
    {
      "attachments": {},
      "cell_type": "markdown",
      "id": "4ed231b8",
      "metadata": {},
      "source": [
        "#### Load dataset"
      ]
    },
    {
      "cell_type": "code",
      "execution_count": null,
      "id": "138dad37",
      "metadata": {},
      "outputs": [],
      "source": [
        "dataset_DF = pd.read_json('../data_catastici/data_post-processing/pipeline_steps/catastici_1741_step3.json')"
      ]
    },
    {
      "cell_type": "markdown",
      "id": "f22db808",
      "metadata": {},
      "source": [
        "#### Select TODO entries and format"
      ]
    },
    {
      "cell_type": "code",
      "execution_count": null,
      "id": "2cee5f79",
      "metadata": {},
      "outputs": [],
      "source": [
        "dataset_unresolved_DF = dataset_DF[dataset_DF['owner_code'] == 'TODO'].copy()\n",
        "dataset_unresolved_DF.loc[:, 'owner_name'] = dataset_unresolved_DF['owner_name'].map(lambda x: u.text_to_minimal((x)))\n",
        "print(\"There are\", len(dataset_unresolved_DF), \"unresolved parcel entries.\")"
      ]
    },
    {
      "cell_type": "markdown",
      "id": "10802ffd",
      "metadata": {},
      "source": [
        "#### Ignore entries with multiple owners\n",
        "\n",
        "We ignore these entries since they will be managed by a future stage of the pipeline."
      ]
    },
    {
      "cell_type": "code",
      "execution_count": null,
      "id": "fb6d1498",
      "metadata": {},
      "outputs": [],
      "source": [
        "separators = sorted(pd.read_json('../dictionaries/MSC_dictionary/separators.json')[0].to_list(), key=len, reverse=True)\n",
        "dataset_unresolved_DF = dataset_unresolved_DF[dataset_unresolved_DF['owner_name'].apply(lambda x: not u.has_multiple_owners(x, separators, use_minimal=False))]\n",
        "print(\"There are\", len(dataset_unresolved_DF), \"relevant parcel entries.\")"
      ]
    },
    {
      "cell_type": "markdown",
      "id": "2fcb5ce0",
      "metadata": {},
      "source": [
        "#### Load necessary dictionaries"
      ]
    },
    {
      "cell_type": "code",
      "execution_count": null,
      "metadata": {},
      "outputs": [],
      "source": [
        "venezia_entities = sorted(pd.read_json('../dictionaries/ENT_dictionary/venezia_entities.json')[0].to_list(), key=len, reverse=True)\n",
        "venezia_titles_entities = sorted(pd.read_json('../dictionaries/ENT_dictionary/venezia_titles_entities.json')[0].to_list(), key=len, reverse=True)\n",
        "guild_entities = sorted(pd.read_json('../dictionaries/ENT_dictionary/guild_entities.json')[0].to_list(), key=len, reverse=True)\n",
        "jew_entities = sorted(pd.read_json('../dictionaries/ENT_dictionary/jew_entities.json')[0].to_list(), key=len, reverse=True)\n",
        "religious_entities = sorted(pd.read_json('../dictionaries/ENT_dictionary/religious_entities.json')[0].to_list(), key=len, reverse=True)\n",
        "religious_titles_entities = sorted(pd.read_json('../dictionaries/ENT_dictionary/religious_titles_entities.json')[0].to_list(), key=len, reverse=True)\n",
        "scuole_grandi_entities = sorted(pd.read_json('../dictionaries/ENT_dictionary/scuole_grandi_entities.json')[0].to_list(), key=len, reverse=True)\n",
        "scuole_mestieri_entities = sorted(pd.read_json('../dictionaries/ENT_dictionary/scuole_mestieri_entities.json')[0].to_list(), key=len, reverse=True)\n",
        "scuole_religious_entities = sorted(pd.read_json('../dictionaries/ENT_dictionary/scuole_religious_entities.json')[0].to_list(), key=len, reverse=True)\n",
        "social_care_entities = sorted(pd.read_json('../dictionaries/ENT_dictionary/social_care_entities.json')[0].to_list(), key=len, reverse=True)\n",
        "entities = sorted(pd.read_json('../dictionaries/ENT_dictionary/entities.json')[0].to_list(), key=len, reverse=True)\n",
        "family_names = sorted(pd.read_json('../dictionaries/PPL_dictionary/family_names.json')[0].to_list(), key=len, reverse=True)\n",
        "family_names_comp = sorted(pd.read_json('../dictionaries/PPL_dictionary/family_names_comp.json')[0].to_list(), key=len, reverse=True)\n",
        "first_names = sorted(pd.read_json('../dictionaries/PPL_dictionary/first_names.json')[0].to_list(), key=len, reverse=True)\n",
        "mestieri = sorted(pd.read_json('../dictionaries/PPL_dictionary/mestieri.json')[0].to_list(), key=len, reverse=True)\n",
        "titles = sorted(pd.read_json('../dictionaries/PPL_dictionary/titles.json')[0].to_list(), key=len, reverse=True)\n",
        "ignore_next = sorted(pd.read_json('../dictionaries/MSC_dictionary/ignore_next.json')[0].to_list(), key=len, reverse=True)\n",
        "cities = sorted(pd.read_json('../dictionaries/MSC_dictionary/cities.json')[0].to_list(), key=len, reverse=True)\n",
        "collisions = [c for c in family_names if (c in titles or c in mestieri or c in entities)]\n",
        "places = sorted(pd.read_json('../dictionaries/MSC_dictionary/places.json')[0].to_list(), key=len, reverse=True)\n",
        "\n",
        "unlinked = pd.read_json('../dictionaries/ENT_dictionary/unlinked_entities.json')\n",
        "venezia_entities_unlinked = sorted(unlinked[unlinked['entities_type'] == 'venezia_entities']['entities_unlinked'], key=len, reverse=True)[0]\n",
        "religious_entities_unlinked = sorted(unlinked[unlinked['entities_type'] == 'religious_entities']['entities_unlinked'], key=len, reverse=True)[0]\n",
        "religious_titles_entities_unlinked = sorted(unlinked[unlinked['entities_type'] == 'religious_titles_entities']['entities_unlinked'], key=len, reverse=True)[0]\n",
        "scuole_entities_unlinked = sorted(unlinked[unlinked['entities_type'] == 'scuole_entities']['entities_unlinked'], key=len, reverse=True)[0]\n",
        "social_care_entities_unlinked = sorted(unlinked[unlinked['entities_type'] == 'social_care_entities']['entities_unlinked'], key=len, reverse=True)[0]\n",
        "other = sorted(unlinked[unlinked['entities_type'] == 'other']['entities_unlinked'], key=len, reverse=True)[0]\n",
        "\n",
        "unlinked_entities = (venezia_entities_unlinked + religious_entities_unlinked + \n",
        "                     religious_titles_entities_unlinked + scuole_entities_unlinked + \n",
        "                     social_care_entities_unlinked + other)"
      ]
    },
    {
      "cell_type": "markdown",
      "id": "7ec1f7c1",
      "metadata": {},
      "source": [
        "## Start parcel assignation"
      ]
    },
    {
      "cell_type": "code",
      "execution_count": null,
      "id": "c5b3487f",
      "metadata": {},
      "outputs": [],
      "source": [
        "def print_commit(uidx, owner):\n",
        "    print('----------------------------------------------------------')\n",
        "    print(\"UIDX\", uidx)\n",
        "    print(\"DEMANIO TEXT  -\", owner.upper())"
      ]
    },
    {
      "cell_type": "code",
      "execution_count": null,
      "id": "9f1aae14",
      "metadata": {},
      "outputs": [],
      "source": [
        "modifications_to_commit = []\n",
        "\n",
        "VNZ = sorted(venezia_entities + venezia_titles_entities + venezia_entities_unlinked, key=len, reverse=True)\n",
        "entities_non_venezia = [e for e in entities if e not in VNZ]"
      ]
    },
    {
      "cell_type": "code",
      "execution_count": null,
      "id": "a5934f54",
      "metadata": {},
      "outputs": [],
      "source": [
        "for index, row in dataset_unresolved_DF.iterrows():\n",
        "    \n",
        "    uidx = row['uidx']\n",
        "    owner_text_minimal = row['owner_name']\n",
        "\n",
        "    for e in entities_non_venezia:\n",
        "\n",
        "        if owner_text_minimal == e:\n",
        "            modifications_to_commit.append({ 'uidx': uidx, 'owner_text_std': e })\n",
        "            print_commit(uidx, owner_text_minimal)\n",
        "            break\n",
        "        \n",
        "        elif u.string_contains_substring(owner_text_minimal, e, use_minimal=False):\n",
        "            name_extraction = up.extract_names(\n",
        "                owner_text_minimal,\n",
        "                family_names,\n",
        "                first_names,\n",
        "                collisions,\n",
        "                ignore_next,\n",
        "                cities,\n",
        "                places)\n",
        "            is_person = (name_extraction is not None \n",
        "                        and name_extraction['name_labeled_map'].get('FIRST_NAME') is not None\n",
        "                        and name_extraction['name_labeled_map'].get('LAST_NAME') is not None\n",
        "                        and len(name_extraction['name_labeled_map']['FIRST_NAME']) > 0\n",
        "                        and len(name_extraction['name_labeled_map']['LAST_NAME']) > 0)\n",
        "            \n",
        "            if not is_person:\n",
        "                modifications_to_commit.append({ 'uidx': uidx, 'owner_text_std': e })\n",
        "                print_commit(uidx, owner_text_minimal)\n",
        "                break\n",
        "\n",
        "print()\n",
        "print()\n",
        "print(\"There are\", len(modifications_to_commit), \"total modifications.\")"
      ]
    },
    {
      "cell_type": "markdown",
      "id": "27bda9f7",
      "metadata": {},
      "source": [
        "### Commit modifications in dataset"
      ]
    },
    {
      "cell_type": "code",
      "execution_count": null,
      "id": "a7d05bd9",
      "metadata": {},
      "outputs": [],
      "source": [
        "for m in modifications_to_commit:\n",
        "    m_uidx = m['uidx']\n",
        "    ent = m['owner_text_std']\n",
        "    \n",
        "    code = ue.get_entity_code_from_mention(\n",
        "        mention=ent,\n",
        "        guild_entities=guild_entities,\n",
        "        jew_entities=jew_entities,\n",
        "        other=other,\n",
        "        religious_entities_unlinked=religious_entities_unlinked,\n",
        "        religious_entities=religious_entities,\n",
        "        religious_titles_entities_unlinked=religious_titles_entities_unlinked,\n",
        "        religious_titles_entities=religious_titles_entities,\n",
        "        scuole_entities_unlinked=scuole_entities_unlinked,\n",
        "        scuole_grandi_entities=scuole_grandi_entities,\n",
        "        scuole_mestieri_entities=scuole_mestieri_entities,\n",
        "        scuole_religious_entities=scuole_religious_entities,\n",
        "        social_care_entities_unlinked=social_care_entities_unlinked,\n",
        "        social_care_entities=social_care_entities\n",
        "    )\n",
        "    dataset_DF.loc[m_uidx, 'owner_code'] = code\n",
        "    \n",
        "    dataset_DF.loc[m_uidx, 'owner_count'] = 1\n",
        "    dataset_DF.loc[m_uidx, 'owner_entity'] =  m['owner_text_std'].upper()\n",
        "    \n",
        "    if ue.is_title_code(code):\n",
        "        dataset_DF.loc[m_uidx, 'owner_title'] = ent\n"
      ]
    },
    {
      "attachments": {},
      "cell_type": "markdown",
      "id": "df8d9fda",
      "metadata": {},
      "source": [
        "### ⚠️⚠️⚠️ Write the updated dataset to file"
      ]
    },
    {
      "cell_type": "code",
      "execution_count": null,
      "id": "915c8b23",
      "metadata": {},
      "outputs": [],
      "source": [
        "dataset_DF.to_json('../data_catastici/data_post-processing/pipeline_steps/catastici_1741_step4.json', orient='records', index=['uidx'])"
      ]
    },
    {
      "cell_type": "markdown",
      "id": "3ba8a866",
      "metadata": {},
      "source": [
        "----------------------------------------------------------"
      ]
    },
    {
      "cell_type": "code",
      "execution_count": null,
      "id": "96d434e9",
      "metadata": {},
      "outputs": [],
      "source": [
        "import time\n",
        "print(\"Current time:\", time.strftime(\"%H:%M:%S\", time.localtime()))"
      ]
    }
  ],
  "metadata": {
    "kernelspec": {
      "display_name": "Python 3",
      "language": "python",
      "name": "python3"
    },
    "language_info": {
      "codemirror_mode": {
        "name": "ipython",
        "version": 3
      },
      "file_extension": ".py",
      "mimetype": "text/x-python",
      "name": "python",
      "nbconvert_exporter": "python",
      "pygments_lexer": "ipython3",
      "version": "3.11.6"
    },
    "vscode": {
      "interpreter": {
        "hash": "aee8b7b246df8f9039afb4144a1f6fd8d2ca17a180786b69acc140d282b71a49"
      }
    }
  },
  "nbformat": 4,
  "nbformat_minor": 5
}
